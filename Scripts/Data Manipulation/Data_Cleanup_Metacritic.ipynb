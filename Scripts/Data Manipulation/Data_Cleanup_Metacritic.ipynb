{
 "cells": [
  {
   "cell_type": "markdown",
   "metadata": {},
   "source": [
    "# Cleaning Metacritic Data Sets 🧹🪣"
   ]
  },
  {
   "cell_type": "markdown",
   "metadata": {},
   "source": [
    "---\n",
    "---\n",
    "---"
   ]
  },
  {
   "cell_type": "code",
   "execution_count": 2,
   "metadata": {},
   "outputs": [],
   "source": [
    "import pandas as pd \n",
    "from itables import show"
   ]
  },
  {
   "cell_type": "markdown",
   "metadata": {},
   "source": [
    "---"
   ]
  },
  {
   "cell_type": "markdown",
   "metadata": {},
   "source": [
    "# Batch 0 (Titles)"
   ]
  },
  {
   "cell_type": "code",
   "execution_count": 20,
   "metadata": {},
   "outputs": [
    {
     "name": "stdout",
     "output_type": "stream",
     "text": [
      "   Unnamed: 0            Title  Release Date  \\\n",
      "0           0  Synthetic Lover  Dec 22, 2023   \n",
      "\n",
      "                                         Description  \\\n",
      "0  In the year 2066, biologically engineered huma...   \n",
      "\n",
      "                                          Game Link  \n",
      "0  https://www.metacritic.com/game/synthetic-lover/  \n",
      "📍---------------------------------📍---------------------------------📍\n",
      "Index(['Unnamed: 0', 'Title', 'Release Date', 'Description', 'Game Link'], dtype='object')\n",
      "📍---------------------------------📍---------------------------------📍\n",
      "(2160, 5)\n"
     ]
    }
   ],
   "source": [
    "raw_meta0 = pd.read_csv('../../Data/Raw Pulls /Metacritic/RAW_metacritic_ps_titles.csv')\n",
    "\n",
    "print(raw_meta0.head(1))\n",
    "print('📍---------------------------------📍---------------------------------📍')\n",
    "print(raw_meta0.columns)\n",
    "print('📍---------------------------------📍---------------------------------📍')\n",
    "print(raw_meta0.shape)"
   ]
  },
  {
   "cell_type": "code",
   "execution_count": 21,
   "metadata": {},
   "outputs": [
    {
     "name": "stdout",
     "output_type": "stream",
     "text": [
      "             Title  Release Date  \\\n",
      "0  Synthetic Lover  Dec 22, 2023   \n",
      "\n",
      "                                         Description  \\\n",
      "0  In the year 2066, biologically engineered huma...   \n",
      "\n",
      "                                          Game Link  \n",
      "0  https://www.metacritic.com/game/synthetic-lover/  \n",
      "📍---------------------------------📍---------------------------------📍\n",
      "Index(['Title', 'Release Date', 'Description', 'Game Link'], dtype='object')\n",
      "📍---------------------------------📍---------------------------------📍\n",
      "(2160, 4)\n"
     ]
    }
   ],
   "source": [
    "meta0 = raw_meta0.drop(['Unnamed: 0'], axis=1)\n",
    "\n",
    "print(meta0.head(1))\n",
    "print('📍---------------------------------📍---------------------------------📍')\n",
    "print(meta0.columns)\n",
    "print('📍---------------------------------📍---------------------------------📍')\n",
    "print(meta0.shape)"
   ]
  },
  {
   "cell_type": "markdown",
   "metadata": {},
   "source": [
    "---"
   ]
  },
  {
   "cell_type": "markdown",
   "metadata": {},
   "source": [
    "### Batch 1"
   ]
  },
  {
   "cell_type": "code",
   "execution_count": 12,
   "metadata": {},
   "outputs": [
    {
     "name": "stdout",
     "output_type": "stream",
     "text": [
      "   Unnamed: 0       Game Title Console Commenter Name Reviewer Type Comment  \\\n",
      "0           0  synthetic lover     NaN            NaN        Critic     NaN   \n",
      "\n",
      "  Date Commented Score Number  \n",
      "0            NaN          tbd  \n",
      "📍---------------------------------📍---------------------------------📍\n",
      "Index(['Unnamed: 0', 'Game Title', 'Console', 'Commenter Name',\n",
      "       'Reviewer Type', 'Comment', 'Date Commented', 'Score Number'],\n",
      "      dtype='object')\n",
      "📍---------------------------------📍---------------------------------📍\n",
      "(225, 8)\n"
     ]
    }
   ],
   "source": [
    "raw_meta1 = pd.read_csv('../../Data/Raw Pulls /Metacritic/RAW_metacritic_ps_comments_batch1-100.csv')\n",
    "\n",
    "print(raw_meta1.head(1))\n",
    "print('📍---------------------------------📍---------------------------------📍')\n",
    "print(raw_meta1.columns)\n",
    "print('📍---------------------------------📍---------------------------------📍')\n",
    "print(raw_meta1.shape)"
   ]
  },
  {
   "cell_type": "code",
   "execution_count": 22,
   "metadata": {},
   "outputs": [
    {
     "name": "stdout",
     "output_type": "stream",
     "text": [
      "        Game Title Console Commenter Name Reviewer Type Comment  \\\n",
      "0  synthetic lover     NaN            NaN        Critic     NaN   \n",
      "\n",
      "  Date Commented Score Number  \n",
      "0            NaN          tbd  \n",
      "📍---------------------------------📍---------------------------------📍\n",
      "Index(['Game Title', 'Console', 'Commenter Name', 'Reviewer Type', 'Comment',\n",
      "       'Date Commented', 'Score Number'],\n",
      "      dtype='object')\n",
      "📍---------------------------------📍---------------------------------📍\n",
      "(225, 7)\n"
     ]
    }
   ],
   "source": [
    "meta1 = raw_meta1.drop(['Unnamed: 0'], axis=1)\n",
    "\n",
    "print(meta1.head(1))\n",
    "print('📍---------------------------------📍---------------------------------📍')\n",
    "print(meta1.columns)\n",
    "print('📍---------------------------------📍---------------------------------📍')\n",
    "print(meta1.shape)"
   ]
  },
  {
   "cell_type": "markdown",
   "metadata": {},
   "source": [
    "---"
   ]
  },
  {
   "cell_type": "markdown",
   "metadata": {},
   "source": [
    "### Batch 2"
   ]
  },
  {
   "cell_type": "code",
   "execution_count": 13,
   "metadata": {},
   "outputs": [
    {
     "name": "stdout",
     "output_type": "stream",
     "text": [
      "   Unnamed: 0                    Game Title        Console Commenter Name  \\\n",
      "0           0  god of war ragnarok valhalla  PlayStation 5          INVEN   \n",
      "\n",
      "  Reviewer Type                                            Comment  \\\n",
      "0        Critic  God of War Ragnarök: Valhalla is not merely an...   \n",
      "\n",
      "  Date Commented Score Number  \n",
      "0   Dec 23, 2023           87  \n",
      "📍---------------------------------📍---------------------------------📍\n",
      "Index(['Unnamed: 0', 'Game Title', 'Console', 'Commenter Name',\n",
      "       'Reviewer Type', 'Comment', 'Date Commented', 'Score Number'],\n",
      "      dtype='object')\n",
      "📍---------------------------------📍---------------------------------📍\n",
      "(964, 8)\n"
     ]
    }
   ],
   "source": [
    "raw_meta2 = pd.read_csv('../../Data/Raw Pulls /Metacritic/RAW_metacritic_ps_comments_batch101-500.csv')\n",
    "\n",
    "print(raw_meta2.head(1))\n",
    "print('📍---------------------------------📍---------------------------------📍')\n",
    "print(raw_meta2.columns)\n",
    "print('📍---------------------------------📍---------------------------------📍')\n",
    "print(raw_meta2.shape)"
   ]
  },
  {
   "cell_type": "code",
   "execution_count": 23,
   "metadata": {},
   "outputs": [
    {
     "name": "stdout",
     "output_type": "stream",
     "text": [
      "                     Game Title        Console Commenter Name Reviewer Type  \\\n",
      "0  god of war ragnarok valhalla  PlayStation 5          INVEN        Critic   \n",
      "\n",
      "                                             Comment Date Commented  \\\n",
      "0  God of War Ragnarök: Valhalla is not merely an...   Dec 23, 2023   \n",
      "\n",
      "  Score Number  \n",
      "0           87  \n",
      "📍---------------------------------📍---------------------------------📍\n",
      "Index(['Game Title', 'Console', 'Commenter Name', 'Reviewer Type', 'Comment',\n",
      "       'Date Commented', 'Score Number'],\n",
      "      dtype='object')\n",
      "📍---------------------------------📍---------------------------------📍\n",
      "(964, 7)\n"
     ]
    }
   ],
   "source": [
    "meta2 = raw_meta2.drop(['Unnamed: 0'], axis=1)\n",
    "\n",
    "print(meta2.head(1))\n",
    "print('📍---------------------------------📍---------------------------------📍')\n",
    "print(meta2.columns)\n",
    "print('📍---------------------------------📍---------------------------------📍')\n",
    "print(meta2.shape)"
   ]
  },
  {
   "cell_type": "markdown",
   "metadata": {},
   "source": [
    "---"
   ]
  },
  {
   "cell_type": "markdown",
   "metadata": {},
   "source": [
    "### Batch 3"
   ]
  },
  {
   "cell_type": "code",
   "execution_count": 14,
   "metadata": {},
   "outputs": [
    {
     "name": "stdout",
     "output_type": "stream",
     "text": [
      "   Unnamed: 0 Game Title Console Commenter Name Reviewer Type Comment  \\\n",
      "0           0    blandia     NaN            NaN        Critic     NaN   \n",
      "\n",
      "  Date Commented Score Number  \n",
      "0            NaN          tbd  \n",
      "📍---------------------------------📍---------------------------------📍\n",
      "Index(['Unnamed: 0', 'Game Title', 'Console', 'Commenter Name',\n",
      "       'Reviewer Type', 'Comment', 'Date Commented', 'Score Number'],\n",
      "      dtype='object')\n",
      "📍---------------------------------📍---------------------------------📍\n",
      "(1807, 8)\n"
     ]
    }
   ],
   "source": [
    "raw_meta3 = pd.read_csv('../../Data/Raw Pulls /Metacritic/RAW_metacritic_ps_comments_batch501-1500.csv')\n",
    "\n",
    "print(raw_meta3.head(1))\n",
    "print('📍---------------------------------📍---------------------------------📍')\n",
    "print(raw_meta3.columns)\n",
    "print('📍---------------------------------📍---------------------------------📍')\n",
    "print(raw_meta3.shape)"
   ]
  },
  {
   "cell_type": "code",
   "execution_count": 24,
   "metadata": {},
   "outputs": [
    {
     "name": "stdout",
     "output_type": "stream",
     "text": [
      "  Game Title Console Commenter Name Reviewer Type Comment Date Commented  \\\n",
      "0    blandia     NaN            NaN        Critic     NaN            NaN   \n",
      "\n",
      "  Score Number  \n",
      "0          tbd  \n",
      "📍---------------------------------📍---------------------------------📍\n",
      "Index(['Game Title', 'Console', 'Commenter Name', 'Reviewer Type', 'Comment',\n",
      "       'Date Commented', 'Score Number'],\n",
      "      dtype='object')\n",
      "📍---------------------------------📍---------------------------------📍\n",
      "(1807, 7)\n"
     ]
    }
   ],
   "source": [
    "meta3 = raw_meta3.drop(['Unnamed: 0'], axis=1)\n",
    "\n",
    "print(meta3.head(1))\n",
    "print('📍---------------------------------📍---------------------------------📍')\n",
    "print(meta3.columns)\n",
    "print('📍---------------------------------📍---------------------------------📍')\n",
    "print(meta3.shape)"
   ]
  },
  {
   "cell_type": "markdown",
   "metadata": {},
   "source": [
    "---"
   ]
  },
  {
   "cell_type": "markdown",
   "metadata": {},
   "source": [
    "### Batch 4"
   ]
  },
  {
   "cell_type": "code",
   "execution_count": 15,
   "metadata": {},
   "outputs": [
    {
     "name": "stdout",
     "output_type": "stream",
     "text": [
      "   Unnamed: 0                       Game Title Console Commenter Name  \\\n",
      "0           0  clutter evolution beyond xtreme     NaN            NaN   \n",
      "\n",
      "  Reviewer Type Comment Date Commented Score Number  \n",
      "0        Critic     NaN            NaN          tbd  \n",
      "📍---------------------------------📍---------------------------------📍\n",
      "Index(['Unnamed: 0', 'Game Title', 'Console', 'Commenter Name',\n",
      "       'Reviewer Type', 'Comment', 'Date Commented', 'Score Number'],\n",
      "      dtype='object')\n",
      "📍---------------------------------📍---------------------------------📍\n",
      "(1629, 8)\n"
     ]
    }
   ],
   "source": [
    "raw_meta4 = pd.read_csv('../../Data/Raw Pulls /Metacritic/RAW_metacritic_ps_comments_batch1501-2155.csv')\n",
    "\n",
    "print(raw_meta4.head(1))\n",
    "print('📍---------------------------------📍---------------------------------📍')\n",
    "print(raw_meta4.columns)\n",
    "print('📍---------------------------------📍---------------------------------📍')\n",
    "print(raw_meta4.shape)"
   ]
  },
  {
   "cell_type": "code",
   "execution_count": 27,
   "metadata": {},
   "outputs": [
    {
     "name": "stdout",
     "output_type": "stream",
     "text": [
      "                        Game Title Console Commenter Name Reviewer Type  \\\n",
      "0  clutter evolution beyond xtreme     NaN            NaN        Critic   \n",
      "\n",
      "  Comment Date Commented Score Number  \n",
      "0     NaN            NaN          tbd  \n",
      "📍---------------------------------📍---------------------------------📍\n",
      "Index(['Game Title', 'Console', 'Commenter Name', 'Reviewer Type', 'Comment',\n",
      "       'Date Commented', 'Score Number'],\n",
      "      dtype='object')\n",
      "📍---------------------------------📍---------------------------------📍\n",
      "(1629, 7)\n"
     ]
    }
   ],
   "source": [
    "meta4 = raw_meta4.drop(['Unnamed: 0'], axis=1)\n",
    "\n",
    "print(meta4.head(1))\n",
    "print('📍---------------------------------📍---------------------------------📍')\n",
    "print(meta4.columns)\n",
    "print('📍---------------------------------📍---------------------------------📍')\n",
    "print(meta4.shape)"
   ]
  },
  {
   "cell_type": "markdown",
   "metadata": {},
   "source": [
    "---"
   ]
  },
  {
   "cell_type": "markdown",
   "metadata": {},
   "source": [
    "### Batch 5"
   ]
  },
  {
   "cell_type": "code",
   "execution_count": 16,
   "metadata": {},
   "outputs": [
    {
     "name": "stdout",
     "output_type": "stream",
     "text": [
      "   Unnamed: 0  Game Title Console Commenter Name Reviewer Type  \\\n",
      "0           0  richman 10      PC       Gamersky        Critic   \n",
      "\n",
      "                                             Comment Date Commented  \\\n",
      "0  Rich man series have existed for more than 30 ...   Oct 28, 2019   \n",
      "\n",
      "   Score Number  \n",
      "0          63.0  \n",
      "📍---------------------------------📍---------------------------------📍\n",
      "Index(['Unnamed: 0', 'Game Title', 'Console', 'Commenter Name',\n",
      "       'Reviewer Type', 'Comment', 'Date Commented', 'Score Number'],\n",
      "      dtype='object')\n",
      "📍---------------------------------📍---------------------------------📍\n",
      "(14, 8)\n"
     ]
    }
   ],
   "source": [
    "raw_meta5 = pd.read_csv('../../Data/Raw Pulls /Metacritic/RAW_metacritic_ps_comments_batch2156-2160.csv')\n",
    "\n",
    "print(raw_meta5.head(1))\n",
    "print('📍---------------------------------📍---------------------------------📍')\n",
    "print(raw_meta5.columns)\n",
    "print('📍---------------------------------📍---------------------------------📍')\n",
    "print(raw_meta5.shape)"
   ]
  },
  {
   "cell_type": "code",
   "execution_count": 28,
   "metadata": {},
   "outputs": [
    {
     "name": "stdout",
     "output_type": "stream",
     "text": [
      "   Game Title Console Commenter Name Reviewer Type  \\\n",
      "0  richman 10      PC       Gamersky        Critic   \n",
      "\n",
      "                                             Comment Date Commented  \\\n",
      "0  Rich man series have existed for more than 30 ...   Oct 28, 2019   \n",
      "\n",
      "   Score Number  \n",
      "0          63.0  \n",
      "📍---------------------------------📍---------------------------------📍\n",
      "Index(['Game Title', 'Console', 'Commenter Name', 'Reviewer Type', 'Comment',\n",
      "       'Date Commented', 'Score Number'],\n",
      "      dtype='object')\n",
      "📍---------------------------------📍---------------------------------📍\n",
      "(14, 7)\n"
     ]
    }
   ],
   "source": [
    "meta5 = raw_meta5.drop(['Unnamed: 0'], axis=1)\n",
    "\n",
    "print(meta5.head(1))\n",
    "print('📍---------------------------------📍---------------------------------📍')\n",
    "print(meta5.columns)\n",
    "print('📍---------------------------------📍---------------------------------📍')\n",
    "print(meta5.shape)"
   ]
  },
  {
   "cell_type": "markdown",
   "metadata": {},
   "source": [
    "---\n",
    "---\n",
    "---"
   ]
  },
  {
   "cell_type": "markdown",
   "metadata": {},
   "source": [
    "# Merging Data Sets 🧩"
   ]
  },
  {
   "cell_type": "code",
   "execution_count": 30,
   "metadata": {},
   "outputs": [
    {
     "name": "stdout",
     "output_type": "stream",
     "text": [
      "Index(['Title', 'Release Date', 'Description', 'Game Link'], dtype='object')\n",
      "📍---------------------------------📍---------------------------------📍\n",
      "Index(['Game Title', 'Console', 'Commenter Name', 'Reviewer Type', 'Comment',\n",
      "       'Date Commented', 'Score Number'],\n",
      "      dtype='object')\n",
      "Index(['Game Title', 'Console', 'Commenter Name', 'Reviewer Type', 'Comment',\n",
      "       'Date Commented', 'Score Number'],\n",
      "      dtype='object')\n",
      "Index(['Game Title', 'Console', 'Commenter Name', 'Reviewer Type', 'Comment',\n",
      "       'Date Commented', 'Score Number'],\n",
      "      dtype='object')\n",
      "Index(['Game Title', 'Console', 'Commenter Name', 'Reviewer Type', 'Comment',\n",
      "       'Date Commented', 'Score Number'],\n",
      "      dtype='object')\n",
      "Index(['Game Title', 'Console', 'Commenter Name', 'Reviewer Type', 'Comment',\n",
      "       'Date Commented', 'Score Number'],\n",
      "      dtype='object')\n"
     ]
    }
   ],
   "source": [
    "print(meta0.columns)\n",
    "print('📍---------------------------------📍---------------------------------📍')\n",
    "print(meta1.columns)\n",
    "print(meta2.columns)\n",
    "print(meta3.columns)\n",
    "print(meta4.columns)\n",
    "print(meta5.columns)"
   ]
  },
  {
   "cell_type": "code",
   "execution_count": 31,
   "metadata": {},
   "outputs": [
    {
     "name": "stdout",
     "output_type": "stream",
     "text": [
      "(2160, 4)\n",
      "📍---------------------------------📍---------------------------------📍\n",
      "(225, 7)\n",
      "(964, 7)\n",
      "(1807, 7)\n",
      "(1629, 7)\n",
      "(14, 7)\n"
     ]
    }
   ],
   "source": [
    "print(meta0.shape)\n",
    "print('📍---------------------------------📍---------------------------------📍')\n",
    "print(meta1.shape)\n",
    "print(meta2.shape)\n",
    "print(meta3.shape)\n",
    "print(meta4.shape)\n",
    "print(meta5.shape)"
   ]
  },
  {
   "cell_type": "markdown",
   "metadata": {},
   "source": [
    "---"
   ]
  },
  {
   "cell_type": "code",
   "execution_count": 32,
   "metadata": {},
   "outputs": [
    {
     "name": "stdout",
     "output_type": "stream",
     "text": [
      "        Game Title Console Commenter Name Reviewer Type Comment  \\\n",
      "0  synthetic lover     NaN            NaN        Critic     NaN   \n",
      "\n",
      "  Date Commented Score Number  \n",
      "0            NaN          tbd  \n",
      "📍---------------------------------📍---------------------------------📍\n",
      "Index(['Game Title', 'Console', 'Commenter Name', 'Reviewer Type', 'Comment',\n",
      "       'Date Commented', 'Score Number'],\n",
      "      dtype='object')\n",
      "📍---------------------------------📍---------------------------------📍\n",
      "(4639, 7)\n"
     ]
    }
   ],
   "source": [
    "meta_comments = pd.concat([meta1, meta2, meta3, meta4, meta5], axis=0)\n",
    "\n",
    "print(meta_comments.head(1))\n",
    "print('📍---------------------------------📍---------------------------------📍')\n",
    "print(meta_comments.columns)\n",
    "print('📍---------------------------------📍---------------------------------📍')\n",
    "print(meta_comments.shape)"
   ]
  },
  {
   "cell_type": "code",
   "execution_count": 34,
   "metadata": {},
   "outputs": [
    {
     "name": "stdout",
     "output_type": "stream",
     "text": [
      "        Game Title Console Commenter Name Reviewer Type Comment  \\\n",
      "0  synthetic lover     NaN            NaN        Critic     NaN   \n",
      "\n",
      "  Date Commented Score Number            Title  Release Date  \\\n",
      "0            NaN          tbd  synthetic lover  Dec 22, 2023   \n",
      "\n",
      "                                         Description  \\\n",
      "0  In the year 2066, biologically engineered huma...   \n",
      "\n",
      "                                          Game Link  \n",
      "0  https://www.metacritic.com/game/synthetic-lover/  \n",
      "📍---------------------------------📍---------------------------------📍\n",
      "Index(['Game Title', 'Console', 'Commenter Name', 'Reviewer Type', 'Comment',\n",
      "       'Date Commented', 'Score Number', 'Title', 'Release Date',\n",
      "       'Description', 'Game Link'],\n",
      "      dtype='object')\n",
      "📍---------------------------------📍---------------------------------📍\n",
      "(4803, 11)\n"
     ]
    }
   ],
   "source": [
    "meta_comments['Game Title'] = meta_comments['Game Title'].str.lower()\n",
    "meta0['Title'] = meta0['Title'].str.lower()\n",
    "\n",
    "Metacritic_df = pd.merge(meta_comments, meta0, how='left', left_on='Game Title', right_on='Title')\n",
    "\n",
    "print(Metacritic_df.head(1))\n",
    "print('📍---------------------------------📍---------------------------------📍')\n",
    "print(Metacritic_df.columns)\n",
    "print('📍---------------------------------📍---------------------------------📍')\n",
    "print(Metacritic_df.shape)"
   ]
  },
  {
   "cell_type": "code",
   "execution_count": 41,
   "metadata": {},
   "outputs": [],
   "source": [
    "# Metacritic_df = Metacritic_df.drop(['Title'], axis=1)"
   ]
  },
  {
   "cell_type": "code",
   "execution_count": 42,
   "metadata": {},
   "outputs": [
    {
     "name": "stdout",
     "output_type": "stream",
     "text": [
      "        Game Title Console Commenter Name Reviewer Type Comment  \\\n",
      "0  synthetic lover     NaN            NaN        Critic     NaN   \n",
      "\n",
      "  Date Commented Score Number  Release Date  \\\n",
      "0            NaN          tbd  Dec 22, 2023   \n",
      "\n",
      "                                         Description  \\\n",
      "0  In the year 2066, biologically engineered huma...   \n",
      "\n",
      "                                          Game Link  \n",
      "0  https://www.metacritic.com/game/synthetic-lover/  \n",
      "📍---------------------------------📍---------------------------------📍\n",
      "Index(['Game Title', 'Console', 'Commenter Name', 'Reviewer Type', 'Comment',\n",
      "       'Date Commented', 'Score Number', 'Release Date', 'Description',\n",
      "       'Game Link'],\n",
      "      dtype='object')\n",
      "📍---------------------------------📍---------------------------------📍\n",
      "(4803, 10)\n"
     ]
    }
   ],
   "source": [
    "print(Metacritic_df.head(1))\n",
    "print('📍---------------------------------📍---------------------------------📍')\n",
    "print(Metacritic_df.columns)\n",
    "print('📍---------------------------------📍---------------------------------📍')\n",
    "print(Metacritic_df.shape)"
   ]
  },
  {
   "cell_type": "code",
   "execution_count": 43,
   "metadata": {},
   "outputs": [],
   "source": [
    "# to csv\n",
    "# Metacritic_df.to_csv('Metacritic_Final.csv', index=False)"
   ]
  }
 ],
 "metadata": {
  "kernelspec": {
   "display_name": "Python 3",
   "language": "python",
   "name": "python3"
  },
  "language_info": {
   "codemirror_mode": {
    "name": "ipython",
    "version": 3
   },
   "file_extension": ".py",
   "mimetype": "text/x-python",
   "name": "python",
   "nbconvert_exporter": "python",
   "pygments_lexer": "ipython3",
   "version": "3.11.3"
  },
  "orig_nbformat": 4
 },
 "nbformat": 4,
 "nbformat_minor": 2
}
