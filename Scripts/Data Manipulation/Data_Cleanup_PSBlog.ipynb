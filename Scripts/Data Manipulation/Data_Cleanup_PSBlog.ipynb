{
 "cells": [
  {
   "cell_type": "code",
   "execution_count": 9,
   "metadata": {},
   "outputs": [],
   "source": [
    "import pandas as pd\n",
    "from itables import show"
   ]
  },
  {
   "cell_type": "markdown",
   "metadata": {},
   "source": [
    "# Cleaning Data sets"
   ]
  },
  {
   "cell_type": "markdown",
   "metadata": {},
   "source": [
    "---"
   ]
  },
  {
   "cell_type": "markdown",
   "metadata": {},
   "source": [
    "### PS Plus Data Set"
   ]
  },
  {
   "cell_type": "code",
   "execution_count": 15,
   "metadata": {},
   "outputs": [
    {
     "name": "stdout",
     "output_type": "stream",
     "text": [
      "Empty DataFrame\n",
      "Columns: [Unnamed: 0, Author, Timestamp, Comment, Article Link]\n",
      "Index: []\n",
      "Shape: (3012, 5)\n"
     ]
    }
   ],
   "source": [
    "raw_psplus = pd.read_csv(\"../../Data/Raw Pulls /PSBlog/RAW_psplus_blog_comments.csv\")\n",
    "\n",
    "print(raw_psplus.head(0))\n",
    "\n",
    "print(f'Shape: {raw_psplus.shape}')"
   ]
  },
  {
   "cell_type": "code",
   "execution_count": 17,
   "metadata": {},
   "outputs": [
    {
     "name": "stdout",
     "output_type": "stream",
     "text": [
      "Empty DataFrame\n",
      "Columns: [Author, Timestamp, Comment, Article Link]\n",
      "Index: []\n",
      "Shape: (3012, 4)\n"
     ]
    }
   ],
   "source": [
    "psplus = raw_psplus.drop(columns=['Unnamed: 0'])\n",
    "\n",
    "print(psplus.head(0))\n",
    "\n",
    "print(f'Shape: {psplus.shape}')"
   ]
  },
  {
   "cell_type": "code",
   "execution_count": 22,
   "metadata": {},
   "outputs": [
    {
     "name": "stdout",
     "output_type": "stream",
     "text": [
      "     Author                         Timestamp            Comment  \\\n",
      "0  engobruh  December 13, 2023 at 8:49 am PST  Finally, quality.   \n",
      "\n",
      "                                        Article Link Platform  \n",
      "0  https://blog.playstation.com/2023/12/13/playst...  PS Plus  \n",
      "Shape: (3012, 5)\n"
     ]
    }
   ],
   "source": [
    "psplus_final = psplus.copy()\n",
    "\n",
    "psplus_final['Platform'] = 'PS Plus'\n",
    "\n",
    "print(psplus_final.head(1))\n",
    "\n",
    "print(f'Shape: {psplus_final.shape}')"
   ]
  },
  {
   "cell_type": "markdown",
   "metadata": {},
   "source": [
    "---"
   ]
  },
  {
   "cell_type": "markdown",
   "metadata": {},
   "source": [
    "### PS Store Data Set"
   ]
  },
  {
   "cell_type": "code",
   "execution_count": 23,
   "metadata": {},
   "outputs": [
    {
     "name": "stdout",
     "output_type": "stream",
     "text": [
      "Empty DataFrame\n",
      "Columns: [Unnamed: 0, Author, Timestamp, Comment, Article Link]\n",
      "Index: []\n",
      "Shape: (396, 5)\n"
     ]
    }
   ],
   "source": [
    "raw_psstore = pd.read_csv(\"../../Data/Raw Pulls /PSBlog/RAW_psstore_blog_comments.csv\")\n",
    "\n",
    "print(raw_psstore.head(0))\n",
    "\n",
    "print(f'Shape: {raw_psstore.shape}')"
   ]
  },
  {
   "cell_type": "code",
   "execution_count": 31,
   "metadata": {},
   "outputs": [
    {
     "name": "stdout",
     "output_type": "stream",
     "text": [
      "Empty DataFrame\n",
      "Columns: [Author, Timestamp, Comment, Article Link]\n",
      "Index: []\n",
      "Shape: (396, 4)\n"
     ]
    }
   ],
   "source": [
    "psstore = raw_psstore.drop(columns=['Unnamed: 0'])\n",
    "\n",
    "print(psstore.head(0))\n",
    "\n",
    "print(f'Shape: {psstore.shape}')"
   ]
  },
  {
   "cell_type": "code",
   "execution_count": 32,
   "metadata": {},
   "outputs": [
    {
     "name": "stdout",
     "output_type": "stream",
     "text": [
      "    Author                         Timestamp  \\\n",
      "0  lulzPIE  December 19, 2023 at 5:54 pm PST   \n",
      "\n",
      "                                       Comment  \\\n",
      "0  Excited to see Baldur’s Gate 3 on the list.   \n",
      "\n",
      "                                        Article Link  Platform  \n",
      "0  https://blog.playstation.com/2023/12/19/the-ho...  PS Store  \n",
      "Shape: (396, 5)\n"
     ]
    }
   ],
   "source": [
    "psstore_final = psstore.copy()\n",
    "\n",
    "psstore_final['Platform'] = 'PS Store'\n",
    "\n",
    "print(psstore_final.head(1))\n",
    "\n",
    "print(f'Shape: {psstore_final.shape}')"
   ]
  },
  {
   "cell_type": "markdown",
   "metadata": {},
   "source": [
    "---"
   ]
  },
  {
   "cell_type": "markdown",
   "metadata": {},
   "source": [
    "### PS VR Data Set"
   ]
  },
  {
   "cell_type": "code",
   "execution_count": 28,
   "metadata": {},
   "outputs": [
    {
     "name": "stdout",
     "output_type": "stream",
     "text": [
      "Empty DataFrame\n",
      "Columns: [Unnamed: 0, Author, Timestamp, Comment, Article Link]\n",
      "Index: []\n",
      "Shape: (1538, 5)\n"
     ]
    }
   ],
   "source": [
    "raw_psvr2 = pd.read_csv(\"../../Data/Raw Pulls /PSBlog/RAW_psvr2_blog_comments.csv\")\n",
    "\n",
    "print(raw_psvr2.head(0))\n",
    "\n",
    "print(f'Shape: {raw_psvr2.shape}')"
   ]
  },
  {
   "cell_type": "code",
   "execution_count": 33,
   "metadata": {},
   "outputs": [
    {
     "name": "stdout",
     "output_type": "stream",
     "text": [
      "Empty DataFrame\n",
      "Columns: [Author, Timestamp, Comment, Article Link]\n",
      "Index: []\n",
      "Shape: (1538, 4)\n"
     ]
    }
   ],
   "source": [
    "psvr2 = raw_psvr2.drop(columns=['Unnamed: 0'])\n",
    "\n",
    "print(psvr2.head(0))\n",
    "\n",
    "print(f'Shape: {psvr2.shape}')"
   ]
  },
  {
   "cell_type": "code",
   "execution_count": 34,
   "metadata": {},
   "outputs": [
    {
     "name": "stdout",
     "output_type": "stream",
     "text": [
      "   Author                         Timestamp  \\\n",
      "0  cusman  December 15, 2023 at 8:26 am PST   \n",
      "\n",
      "                                             Comment  \\\n",
      "0  Wow, so many. Happy Holidays to all of you rig...   \n",
      "\n",
      "                                        Article Link Platform  \n",
      "0  https://blog.playstation.com/2023/12/15/season...     PSVR  \n",
      "Shape: (1538, 5)\n"
     ]
    }
   ],
   "source": [
    "psvr2_final = psvr2.copy()\n",
    "\n",
    "psvr2_final['Platform'] = 'PSVR'\n",
    "\n",
    "print(psvr2_final.head(1))\n",
    "\n",
    "print(f'Shape: {psvr2_final.shape}')"
   ]
  },
  {
   "cell_type": "markdown",
   "metadata": {},
   "source": [
    "---"
   ]
  },
  {
   "cell_type": "markdown",
   "metadata": {},
   "source": [
    "### PS4 Data Set"
   ]
  },
  {
   "cell_type": "code",
   "execution_count": 35,
   "metadata": {},
   "outputs": [
    {
     "name": "stdout",
     "output_type": "stream",
     "text": [
      "Empty DataFrame\n",
      "Columns: [Unnamed: 0, Author, Timestamp, Comment, Article Link]\n",
      "Index: []\n",
      "Shape: (2430, 5)\n"
     ]
    }
   ],
   "source": [
    "raw_ps4 = pd.read_csv(\"../../Data/Raw Pulls /PSBlog/RAW_ps4_blog_comments.csv\")\n",
    "\n",
    "print(raw_ps4.head(0))\n",
    "\n",
    "print(f'Shape: {raw_ps4.shape}')"
   ]
  },
  {
   "cell_type": "code",
   "execution_count": 36,
   "metadata": {},
   "outputs": [
    {
     "name": "stdout",
     "output_type": "stream",
     "text": [
      "Empty DataFrame\n",
      "Columns: [Author, Timestamp, Comment, Article Link]\n",
      "Index: []\n",
      "Shape: (2430, 4)\n"
     ]
    }
   ],
   "source": [
    "ps4 = raw_ps4.drop(columns=['Unnamed: 0'])\n",
    "\n",
    "print(ps4.head(0))\n",
    "\n",
    "print(f'Shape: {ps4.shape}')"
   ]
  },
  {
   "cell_type": "code",
   "execution_count": 37,
   "metadata": {},
   "outputs": [
    {
     "name": "stdout",
     "output_type": "stream",
     "text": [
      "   Author                         Timestamp  \\\n",
      "0  cusman  December 15, 2023 at 8:26 am PST   \n",
      "\n",
      "                                             Comment  \\\n",
      "0  Wow, so many. Happy Holidays to all of you rig...   \n",
      "\n",
      "                                        Article Link Platform  \n",
      "0  https://blog.playstation.com/2023/12/15/season...      PS4  \n",
      "Shape: (2430, 5)\n"
     ]
    }
   ],
   "source": [
    "ps4_final = ps4.copy()\n",
    "\n",
    "ps4_final['Platform'] = 'PS4'\n",
    "\n",
    "print(ps4_final.head(1))\n",
    "\n",
    "print(f'Shape: {ps4_final.shape}')"
   ]
  },
  {
   "cell_type": "markdown",
   "metadata": {},
   "source": [
    "---"
   ]
  },
  {
   "cell_type": "markdown",
   "metadata": {},
   "source": [
    "### PS5 Data Set"
   ]
  },
  {
   "cell_type": "code",
   "execution_count": 38,
   "metadata": {},
   "outputs": [
    {
     "name": "stdout",
     "output_type": "stream",
     "text": [
      "Empty DataFrame\n",
      "Columns: [Unnamed: 0, Author, Timestamp, Comment, Article Link]\n",
      "Index: []\n",
      "Shape: (5974, 5)\n"
     ]
    }
   ],
   "source": [
    "raw_ps5 = pd.read_csv(\"../../Data/Raw Pulls /PSBlog/RAW_ps5_blog_comments.csv\")\n",
    "\n",
    "print(raw_ps5.head(0))\n",
    "\n",
    "print(f'Shape: {raw_ps5.shape}')"
   ]
  },
  {
   "cell_type": "code",
   "execution_count": 39,
   "metadata": {},
   "outputs": [
    {
     "name": "stdout",
     "output_type": "stream",
     "text": [
      "Empty DataFrame\n",
      "Columns: [Author, Timestamp, Comment, Article Link]\n",
      "Index: []\n",
      "Shape: (5974, 4)\n"
     ]
    }
   ],
   "source": [
    "ps5 = raw_ps5.drop(columns=['Unnamed: 0'])\n",
    "\n",
    "print(ps5.head(0))\n",
    "\n",
    "print(f'Shape: {ps5.shape}')"
   ]
  },
  {
   "cell_type": "code",
   "execution_count": 40,
   "metadata": {},
   "outputs": [
    {
     "name": "stdout",
     "output_type": "stream",
     "text": [
      "         Author                          Timestamp  \\\n",
      "0  x-rogue_55-x  December 20, 2023 at 11:38 am PST   \n",
      "\n",
      "                                             Comment  \\\n",
      "0  So hype for this to release next year, my favo...   \n",
      "\n",
      "                                        Article Link Platform  \n",
      "0  https://blog.playstation.com/2023/12/20/how-su...      PS5  \n",
      "Shape: (5974, 5)\n"
     ]
    }
   ],
   "source": [
    "ps5_final = ps5.copy()\n",
    "\n",
    "ps5_final['Platform'] = 'PS5'\n",
    "\n",
    "print(ps5_final.head(1))\n",
    "\n",
    "print(f'Shape: {ps5_final.shape}')"
   ]
  },
  {
   "cell_type": "markdown",
   "metadata": {},
   "source": [
    "---\n",
    "---\n",
    "---"
   ]
  },
  {
   "cell_type": "markdown",
   "metadata": {},
   "source": [
    "# Merging Data Sets"
   ]
  },
  {
   "cell_type": "code",
   "execution_count": 43,
   "metadata": {},
   "outputs": [
    {
     "name": "stdout",
     "output_type": "stream",
     "text": [
      "Index(['Author', 'Timestamp', 'Comment', 'Article Link', 'Platform'], dtype='object') (3012, 5)\n",
      "Index(['Author', 'Timestamp', 'Comment', 'Article Link', 'Platform'], dtype='object') (396, 5)\n",
      "Index(['Author', 'Timestamp', 'Comment', 'Article Link', 'Platform'], dtype='object') (1538, 5)\n",
      "Index(['Author', 'Timestamp', 'Comment', 'Article Link', 'Platform'], dtype='object') (2430, 5)\n",
      "Index(['Author', 'Timestamp', 'Comment', 'Article Link', 'Platform'], dtype='object') (5974, 5)\n"
     ]
    }
   ],
   "source": [
    "print(psplus_final.columns, psplus_final.shape)\n",
    "print(psstore_final.columns, psstore_final.shape)\n",
    "print(psvr2_final.columns, psvr2_final.shape)\n",
    "print(ps4_final.columns, ps4_final.shape)\n",
    "print(ps5_final.columns, ps5_final.shape)"
   ]
  },
  {
   "cell_type": "code",
   "execution_count": 44,
   "metadata": {},
   "outputs": [],
   "source": [
    "PSBlog_df = pd.concat([psplus_final, psstore_final, psvr2_final, ps4_final, ps5_final], ignore_index=True)"
   ]
  },
  {
   "cell_type": "code",
   "execution_count": 47,
   "metadata": {},
   "outputs": [
    {
     "name": "stdout",
     "output_type": "stream",
     "text": [
      "Index(['Author', 'Timestamp', 'Comment', 'Article Link', 'Platform'], dtype='object') (13350, 5)\n"
     ]
    }
   ],
   "source": [
    "print(PSBlog_df.columns, PSBlog_df.shape)"
   ]
  },
  {
   "cell_type": "code",
   "execution_count": 46,
   "metadata": {},
   "outputs": [],
   "source": [
    "# PSBlog_df.to_csv('PSBlog_Final.csv', index=False)"
   ]
  }
 ],
 "metadata": {
  "kernelspec": {
   "display_name": "Python 3",
   "language": "python",
   "name": "python3"
  },
  "language_info": {
   "codemirror_mode": {
    "name": "ipython",
    "version": 3
   },
   "file_extension": ".py",
   "mimetype": "text/x-python",
   "name": "python",
   "nbconvert_exporter": "python",
   "pygments_lexer": "ipython3",
   "version": "3.11.3"
  },
  "orig_nbformat": 4
 },
 "nbformat": 4,
 "nbformat_minor": 2
}
