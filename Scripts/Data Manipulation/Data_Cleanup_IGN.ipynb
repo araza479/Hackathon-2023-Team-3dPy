{
 "cells": [
  {
   "cell_type": "markdown",
   "metadata": {},
   "source": [
    "# Cleaning IGN Data Sets 🧹"
   ]
  },
  {
   "cell_type": "markdown",
   "metadata": {},
   "source": [
    "---\n",
    "---\n",
    "---"
   ]
  },
  {
   "cell_type": "code",
   "execution_count": 1,
   "metadata": {},
   "outputs": [],
   "source": [
    "import pandas as pd \n",
    "from itables import show "
   ]
  },
  {
   "cell_type": "markdown",
   "metadata": {},
   "source": [
    "---"
   ]
  },
  {
   "cell_type": "markdown",
   "metadata": {},
   "source": [
    "### Batch 0 \n",
    "`Titles`"
   ]
  },
  {
   "cell_type": "code",
   "execution_count": 2,
   "metadata": {},
   "outputs": [
    {
     "name": "stdout",
     "output_type": "stream",
     "text": [
      "     Date  Title       Author         Game Title  Comment Count  \\\n",
      "0  3h ago    NaN  Noah Hunter  GameSwitch Sports              2   \n",
      "\n",
      "                                                Link  \n",
      "0  https://www.ign.com/articles/daily-deals-the-l...  \n",
      "🧱-----🧱-----🧱-----🧱-----🧱-----🧱-----🧱-----🧱-----🧱\n",
      "Index(['Date', 'Title', 'Author', 'Game Title', 'Comment Count', 'Link'], dtype='object')\n",
      "🧱-----🧱-----🧱-----🧱-----🧱-----🧱-----🧱-----🧱-----🧱\n",
      "(3363, 6)\n"
     ]
    }
   ],
   "source": [
    "raw_ign0 = pd.read_csv(\"../../Data/Raw Pulls /IGN/RAW_ign_PS_titles.csv\")\n",
    "\n",
    "print(raw_ign0.head(1))\n",
    "print(\"🧱-----🧱-----🧱-----🧱-----🧱-----🧱-----🧱-----🧱-----🧱\")\n",
    "print(raw_ign0.columns)\n",
    "print(\"🧱-----🧱-----🧱-----🧱-----🧱-----🧱-----🧱-----🧱-----🧱\")\n",
    "print(raw_ign0.shape)"
   ]
  },
  {
   "cell_type": "code",
   "execution_count": 8,
   "metadata": {},
   "outputs": [],
   "source": [
    "ign0 = raw_ign0.drop(['Title'], axis=1)"
   ]
  },
  {
   "cell_type": "code",
   "execution_count": 10,
   "metadata": {},
   "outputs": [
    {
     "name": "stdout",
     "output_type": "stream",
     "text": [
      "     Date       Author         Game Title  Comment Count  \\\n",
      "0  3h ago  Noah Hunter  GameSwitch Sports              2   \n",
      "\n",
      "                                                Link  \n",
      "0  https://www.ign.com/articles/daily-deals-the-l...  \n",
      "🧱-----🧱-----🧱-----🧱-----🧱-----🧱-----🧱-----🧱-----🧱\n",
      "Index(['Date', 'Author', 'Game Title', 'Comment Count', 'Link'], dtype='object')\n",
      "🧱-----🧱-----🧱-----🧱-----🧱-----🧱-----🧱-----🧱-----🧱\n",
      "(3363, 5)\n"
     ]
    }
   ],
   "source": [
    "print(ign0.head(1))\n",
    "print(\"🧱-----🧱-----🧱-----🧱-----🧱-----🧱-----🧱-----🧱-----🧱\")\n",
    "print(ign0.columns)\n",
    "print(\"🧱-----🧱-----🧱-----🧱-----🧱-----🧱-----🧱-----🧱-----🧱\")\n",
    "print(ign0.shape)"
   ]
  },
  {
   "cell_type": "markdown",
   "metadata": {},
   "source": [
    "---"
   ]
  },
  {
   "cell_type": "markdown",
   "metadata": {},
   "source": [
    "### Batch 1"
   ]
  },
  {
   "cell_type": "code",
   "execution_count": 11,
   "metadata": {},
   "outputs": [
    {
     "name": "stdout",
     "output_type": "stream",
     "text": [
      "       Author  Timestamp                                            Comment  \\\n",
      "0  shaftedman  1 day ago  IGN Plus... just out of curiosity, does anyone...   \n",
      "\n",
      "                                             Article  \n",
      "0  daily-deals-the-last-of-us-part-i-spider-man-m...  \n",
      "🧱-----🧱-----🧱-----🧱-----🧱-----🧱-----🧱-----🧱-----🧱\n",
      "Index(['Author', 'Timestamp', 'Comment', 'Article'], dtype='object')\n",
      "🧱-----🧱-----🧱-----🧱-----🧱-----🧱-----🧱-----🧱-----🧱\n",
      "(4935, 4)\n"
     ]
    }
   ],
   "source": [
    "ign1 = pd.read_csv(\"../../Data/Raw Pulls /IGN/RAW_ign_PS_comments_batch0-275.csv\")\n",
    "\n",
    "print(ign1.head(1))\n",
    "print(\"🧱-----🧱-----🧱-----🧱-----🧱-----🧱-----🧱-----🧱-----🧱\")\n",
    "print(ign1.columns)\n",
    "print(\"🧱-----🧱-----🧱-----🧱-----🧱-----🧱-----🧱-----🧱-----🧱\")\n",
    "print(ign1.shape)"
   ]
  },
  {
   "cell_type": "markdown",
   "metadata": {},
   "source": [
    "---"
   ]
  },
  {
   "cell_type": "markdown",
   "metadata": {},
   "source": [
    "### Batch 2"
   ]
  },
  {
   "cell_type": "code",
   "execution_count": 13,
   "metadata": {},
   "outputs": [
    {
     "name": "stdout",
     "output_type": "stream",
     "text": [
      "      Author         Timestamp  \\\n",
      "0  Blanco8x8  5 December, 2023   \n",
      "\n",
      "                                             Comment  \\\n",
      "0  The original Vice City takes place in 1986, an...   \n",
      "\n",
      "                                             Article  \n",
      "0  gta-6-fans-are-already-spinning-story-theories...  \n",
      "🧱-----🧱-----🧱-----🧱-----🧱-----🧱-----🧱-----🧱-----🧱\n",
      "Index(['Author', 'Timestamp', 'Comment', 'Article'], dtype='object')\n",
      "🧱-----🧱-----🧱-----🧱-----🧱-----🧱-----🧱-----🧱-----🧱\n",
      "(3087, 4)\n"
     ]
    }
   ],
   "source": [
    "ign2 = pd.read_csv(\"../../Data/Raw Pulls /IGN/RAW_ign_PS_comments_batch275-500.csv\")\n",
    "\n",
    "print(ign2.head(1))\n",
    "print(\"🧱-----🧱-----🧱-----🧱-----🧱-----🧱-----🧱-----🧱-----🧱\")\n",
    "print(ign2.columns)\n",
    "print(\"🧱-----🧱-----🧱-----🧱-----🧱-----🧱-----🧱-----🧱-----🧱\")\n",
    "print(ign2.shape)"
   ]
  },
  {
   "cell_type": "markdown",
   "metadata": {},
   "source": [
    "---"
   ]
  },
  {
   "cell_type": "markdown",
   "metadata": {},
   "source": [
    "### Batch 3"
   ]
  },
  {
   "cell_type": "code",
   "execution_count": 14,
   "metadata": {},
   "outputs": [
    {
     "name": "stdout",
     "output_type": "stream",
     "text": [
      "      Author          Timestamp  \\\n",
      "0  Steve*007  17 November, 2023   \n",
      "\n",
      "                                             Comment  \\\n",
      "0  So looking forward to MW3 but after reading th...   \n",
      "\n",
      "                                             Article  \n",
      "0  modern-warfare-3-season-1-detailed-with-info-o...  \n",
      "🧱-----🧱-----🧱-----🧱-----🧱-----🧱-----🧱-----🧱-----🧱\n",
      "Index(['Author', 'Timestamp', 'Comment', 'Article'], dtype='object')\n",
      "🧱-----🧱-----🧱-----🧱-----🧱-----🧱-----🧱-----🧱-----🧱\n",
      "(4314, 4)\n"
     ]
    }
   ],
   "source": [
    "ign3 = pd.read_csv(\"../../Data/Raw Pulls /IGN/RAW_ign_PS_comments_batch500-750.csv\")\n",
    "\n",
    "print(ign3.head(1))\n",
    "print(\"🧱-----🧱-----🧱-----🧱-----🧱-----🧱-----🧱-----🧱-----🧱\")\n",
    "print(ign3.columns)\n",
    "print(\"🧱-----🧱-----🧱-----🧱-----🧱-----🧱-----🧱-----🧱-----🧱\")\n",
    "print(ign3.shape)"
   ]
  },
  {
   "cell_type": "markdown",
   "metadata": {},
   "source": [
    "---"
   ]
  },
  {
   "cell_type": "markdown",
   "metadata": {},
   "source": [
    "### Batch 4"
   ]
  },
  {
   "cell_type": "code",
   "execution_count": 15,
   "metadata": {},
   "outputs": [
    {
     "name": "stdout",
     "output_type": "stream",
     "text": [
      "          Author         Timestamp  \\\n",
      "0  ILikeYourFace  30 October, 2023   \n",
      "\n",
      "                                             Comment  \\\n",
      "0  Okay some points I would like to mention in no...   \n",
      "\n",
      "                                             Article  \n",
      "0  our-big-spider-man-2-postmortem-interview-10-t...  \n",
      "🧱-----🧱-----🧱-----🧱-----🧱-----🧱-----🧱-----🧱-----🧱\n",
      "Index(['Author', 'Timestamp', 'Comment', 'Article'], dtype='object')\n",
      "🧱-----🧱-----🧱-----🧱-----🧱-----🧱-----🧱-----🧱-----🧱\n",
      "(4566, 4)\n"
     ]
    }
   ],
   "source": [
    "ign4 = pd.read_csv(\"../../Data/Raw Pulls /IGN/RAW_ign_PS_comments_batch750-995.csv\")\n",
    "\n",
    "print(ign4.head(1))\n",
    "print(\"🧱-----🧱-----🧱-----🧱-----🧱-----🧱-----🧱-----🧱-----🧱\")\n",
    "print(ign4.columns)\n",
    "print(\"🧱-----🧱-----🧱-----🧱-----🧱-----🧱-----🧱-----🧱-----🧱\")\n",
    "print(ign4.shape)"
   ]
  },
  {
   "cell_type": "markdown",
   "metadata": {},
   "source": [
    "---"
   ]
  },
  {
   "cell_type": "markdown",
   "metadata": {},
   "source": [
    "### Batch 5"
   ]
  },
  {
   "cell_type": "code",
   "execution_count": 16,
   "metadata": {},
   "outputs": [
    {
     "name": "stdout",
     "output_type": "stream",
     "text": [
      "            Author         Timestamp  \\\n",
      "0  thismesswearein  10 October, 2023   \n",
      "\n",
      "                                             Comment  \\\n",
      "0  I own all consoles but freely admit to thinkin...   \n",
      "\n",
      "                                             Article  \n",
      "0  the-internet-weighs-in-on-the-ps5-redesign-and...  \n",
      "🧱-----🧱-----🧱-----🧱-----🧱-----🧱-----🧱-----🧱-----\n",
      "Index(['Author', 'Timestamp', 'Comment', 'Article'], dtype='object')\n",
      "🧱-----🧱-----🧱-----🧱-----🧱-----🧱-----🧱-----\n",
      "(3882, 4)\n"
     ]
    }
   ],
   "source": [
    "ign5 = pd.read_csv(\"../../Data/Raw Pulls /IGN/RAW_ign_PS_comments_batch995-1220.csv\")\n",
    "\n",
    "print(ign5.head(1))\n",
    "print(\"🧱-----🧱-----🧱-----🧱-----🧱-----🧱-----🧱-----🧱-----\")\n",
    "print(ign5.columns)\n",
    "print(\"🧱-----🧱-----🧱-----🧱-----🧱-----🧱-----🧱-----\")\n",
    "print(ign5.shape)"
   ]
  },
  {
   "cell_type": "markdown",
   "metadata": {},
   "source": [
    "---"
   ]
  },
  {
   "cell_type": "markdown",
   "metadata": {},
   "source": [
    "### Batch 6"
   ]
  },
  {
   "cell_type": "code",
   "execution_count": 17,
   "metadata": {},
   "outputs": [
    {
     "name": "stdout",
     "output_type": "stream",
     "text": [
      "       Author           Timestamp  \\\n",
      "0  gohan1star  20 September, 2023   \n",
      "\n",
      "                                             Comment  \\\n",
      "0  I honestly really enjoyed the game, for what i...   \n",
      "\n",
      "                                             Article  \n",
      "0  dead-space-co-creator-glen-schofield-leaves-th...  \n",
      "🧱-----🧱-----🧱-----🧱-----🧱-----🧱-----\n",
      "Index(['Author', 'Timestamp', 'Comment', 'Article'], dtype='object')\n",
      "🧱-----🧱-----🧱-----🧱-----🧱-----\n",
      "(3837, 4)\n"
     ]
    }
   ],
   "source": [
    "ign6 = pd.read_csv(\"../../Data/Raw Pulls /IGN/RAW_ign_PS_comments_batch1220-1420.csv\")\n",
    "\n",
    "print(ign6.head(1))\n",
    "print(\"🧱-----🧱-----🧱-----🧱-----🧱-----🧱-----\")\n",
    "print(ign6.columns)\n",
    "print(\"🧱-----🧱-----🧱-----🧱-----🧱-----\")\n",
    "print(ign6.shape)"
   ]
  },
  {
   "cell_type": "markdown",
   "metadata": {},
   "source": [
    "---"
   ]
  },
  {
   "cell_type": "markdown",
   "metadata": {},
   "source": [
    "### Batch 7"
   ]
  },
  {
   "cell_type": "code",
   "execution_count": 18,
   "metadata": {},
   "outputs": [
    {
     "name": "stdout",
     "output_type": "stream",
     "text": [
      "           Author        Timestamp  \\\n",
      "0  CarlSagansPlug  30 August, 2023   \n",
      "\n",
      "                                             Comment  \\\n",
      "0  Do they have a release date yet? Making me thi...   \n",
      "\n",
      "                                             Article  \n",
      "0  extended-warhammer-40000-space-marine-2-gamepl...  \n",
      "🧱-----🧱-----🧱-----🧱-----🧱-----\n",
      "Index(['Author', 'Timestamp', 'Comment', 'Article'], dtype='object')\n",
      "🧱-----🧱-----🧱-----🧱-----\n",
      "(3564, 4)\n"
     ]
    }
   ],
   "source": [
    "ign7 = pd.read_csv(\"../../Data/Raw Pulls /IGN/RAW_ign_PS_comments_batch1420-1620.csv\")\n",
    "\n",
    "print(ign7.head(1))\n",
    "print(\"🧱-----🧱-----🧱-----🧱-----🧱-----\")\n",
    "print(ign7.columns)\n",
    "print(\"🧱-----🧱-----🧱-----🧱-----\")\n",
    "print(ign7.shape)"
   ]
  },
  {
   "cell_type": "markdown",
   "metadata": {},
   "source": [
    "---"
   ]
  },
  {
   "cell_type": "markdown",
   "metadata": {},
   "source": [
    "### Batch 8"
   ]
  },
  {
   "cell_type": "code",
   "execution_count": 19,
   "metadata": {},
   "outputs": [
    {
     "name": "stdout",
     "output_type": "stream",
     "text": [
      "   Author        Timestamp                                            Comment  \\\n",
      "0  Nitaro  14 August, 2023  Took Blizzard only 11 years to give their user...   \n",
      "\n",
      "                                             Article  \n",
      "0  diablo-3-gets-wonderful-send-off-with-mode-pla...  \n",
      "🧱-----🧱-----🧱-----🧱-----\n",
      "Index(['Author', 'Timestamp', 'Comment', 'Article'], dtype='object')\n",
      "🧱-----🧱-----🧱-----\n",
      "(1584, 4)\n"
     ]
    }
   ],
   "source": [
    "ign8 = pd.read_csv(\"../../Data/Raw Pulls /IGN/RAW_ign_PS_comments_batch1620-1820.csv\")\n",
    "\n",
    "print(ign8.head(1))\n",
    "print(\"🧱-----🧱-----🧱-----🧱-----\")\n",
    "print(ign8.columns)\n",
    "print(\"🧱-----🧱-----🧱-----\")\n",
    "print(ign8.shape)"
   ]
  },
  {
   "cell_type": "markdown",
   "metadata": {},
   "source": [
    "---"
   ]
  },
  {
   "cell_type": "markdown",
   "metadata": {},
   "source": [
    "### Batch 9"
   ]
  },
  {
   "cell_type": "code",
   "execution_count": 20,
   "metadata": {},
   "outputs": [
    {
     "name": "stdout",
     "output_type": "stream",
     "text": [
      "          Author      Timestamp  \\\n",
      "0  MetroidForYou  28 June, 2023   \n",
      "\n",
      "                                             Comment  \\\n",
      "0  Offline mode? Open B Net? LAN once again? The ...   \n",
      "\n",
      "                                      Article  \n",
      "0  diablo-4-how-to-use-vpn-connect-to-servers  \n",
      "🧱-----🧱-----🧱-----\n",
      "Index(['Author', 'Timestamp', 'Comment', 'Article'], dtype='object')\n",
      "🧱-----🧱-----\n",
      "(1639, 4)\n"
     ]
    }
   ],
   "source": [
    "ign9 = pd.read_csv(\"../../Data/Raw Pulls /IGN/RAW_ign_PS_comments_batch1820-2020.csv\")\n",
    "\n",
    "print(ign9.head(1))\n",
    "print(\"🧱-----🧱-----🧱-----\")\n",
    "print(ign9.columns)\n",
    "print(\"🧱-----🧱-----\")\n",
    "print(ign9.shape)"
   ]
  },
  {
   "cell_type": "markdown",
   "metadata": {},
   "source": [
    "---"
   ]
  },
  {
   "cell_type": "markdown",
   "metadata": {},
   "source": [
    "### Batch 10"
   ]
  },
  {
   "cell_type": "code",
   "execution_count": 21,
   "metadata": {},
   "outputs": [
    {
     "name": "stdout",
     "output_type": "stream",
     "text": [
      "    Author      Timestamp                                            Comment  \\\n",
      "0  Hawki90  30 June, 2023  Man remake games that actually need remakes. I...   \n",
      "\n",
      "                                             Article  \n",
      "0  ubisoft-is-reportedly-working-on-an-assassins-...  \n",
      "🧱-----🧱-----🧱-----\n",
      "Index(['Author', 'Timestamp', 'Comment', 'Article'], dtype='object')\n",
      "🧱-----🧱-----🧱-----\n",
      "(1615, 4)\n"
     ]
    }
   ],
   "source": [
    "ign10 = pd.read_csv(\"../../Data/Raw Pulls /IGN/RAW_ign_PS_comments_batch2020-2220.csv\")\n",
    "\n",
    "print(ign10.head(1))\n",
    "print(\"🧱-----🧱-----🧱-----\")\n",
    "print(ign10.columns)\n",
    "print(\"🧱-----🧱-----🧱-----\")\n",
    "print(ign10.shape)"
   ]
  },
  {
   "cell_type": "markdown",
   "metadata": {},
   "source": [
    "---"
   ]
  },
  {
   "cell_type": "markdown",
   "metadata": {},
   "source": [
    "### Batch 11"
   ]
  },
  {
   "cell_type": "code",
   "execution_count": 22,
   "metadata": {},
   "outputs": [
    {
     "name": "stdout",
     "output_type": "stream",
     "text": [
      "      Author      Timestamp                             Comment  \\\n",
      "0  troyohboy  26 June, 2023  I’m getting the gamepass edition 😎   \n",
      "\n",
      "                                             Article  \n",
      "0  payday-3-release-date-collectors-edition-preorder  \n",
      "🧱-----🧱-----🧱-----\n",
      "Index(['Author', 'Timestamp', 'Comment', 'Article'], dtype='object')\n",
      "🧱-----🧱-----🧱-----\n",
      "(1477, 4)\n"
     ]
    }
   ],
   "source": [
    "ign11 = pd.read_csv(\"../../Data/Raw Pulls /IGN/RAW_ign_PS_comments_batch2220-2420.csv\")\n",
    "\n",
    "print(ign11.head(1))\n",
    "print(\"🧱-----🧱-----🧱-----\")\n",
    "print(ign11.columns)\n",
    "print(\"🧱-----🧱-----🧱-----\")\n",
    "print(ign11.shape)"
   ]
  },
  {
   "cell_type": "markdown",
   "metadata": {},
   "source": [
    "---"
   ]
  },
  {
   "cell_type": "markdown",
   "metadata": {},
   "source": [
    "### Batch 12"
   ]
  },
  {
   "cell_type": "code",
   "execution_count": 23,
   "metadata": {},
   "outputs": [
    {
     "name": "stdout",
     "output_type": "stream",
     "text": [
      "       Author     Timestamp  \\\n",
      "0  RobGrizzly  25 May, 2023   \n",
      "\n",
      "                                             Comment  \\\n",
      "0  It's good they announced the new playable main...   \n",
      "\n",
      "                                             Article  \n",
      "0  alan-wake-2-trailer-debuts-at-playstation-show...  \n",
      "🧱-----🧱-----🧱-----\n",
      "Index(['Author', 'Timestamp', 'Comment', 'Article'], dtype='object')\n",
      "🧱-----🧱-----🧱-----\n",
      "(1509, 4)\n"
     ]
    }
   ],
   "source": [
    "ign12 = pd.read_csv(\"../../Data/Raw Pulls /IGN/RAW_ign_PS_comments_batch2420-2620.csv\")\n",
    "\n",
    "print(ign12.head(1))\n",
    "print(\"🧱-----🧱-----🧱-----\")\n",
    "print(ign12.columns)\n",
    "print(\"🧱-----🧱-----🧱-----\")\n",
    "print(ign12.shape)"
   ]
  },
  {
   "cell_type": "markdown",
   "metadata": {},
   "source": [
    "---"
   ]
  },
  {
   "cell_type": "markdown",
   "metadata": {},
   "source": [
    "### Batch 13"
   ]
  },
  {
   "cell_type": "code",
   "execution_count": 24,
   "metadata": {},
   "outputs": [
    {
     "name": "stdout",
     "output_type": "stream",
     "text": [
      "       Author       Timestamp  \\\n",
      "0  FAIL_TR0LL  24 April, 2023   \n",
      "\n",
      "                                             Comment  \\\n",
      "0  Saints Row was nominated for authentic represe...   \n",
      "\n",
      "                       Article  \n",
      "0  gayming-awards-2023-winners  \n",
      "🧱-----🧱-----🧱-----\n",
      "Index(['Author', 'Timestamp', 'Comment', 'Article'], dtype='object')\n",
      "🧱-----🧱-----🧱-----\n",
      "(1516, 4)\n"
     ]
    }
   ],
   "source": [
    "ign13 = pd.read_csv(\"../../Data/Raw Pulls /IGN/RAW_ign_PS_comments_batch2620-2820.csv\")\n",
    "\n",
    "print(ign13.head(1))\n",
    "print(\"🧱-----🧱-----🧱-----\")\n",
    "print(ign13.columns)\n",
    "print(\"🧱-----🧱-----🧱-----\")\n",
    "print(ign13.shape)"
   ]
  },
  {
   "cell_type": "markdown",
   "metadata": {},
   "source": [
    "---"
   ]
  },
  {
   "cell_type": "markdown",
   "metadata": {},
   "source": [
    "### Batch 14"
   ]
  },
  {
   "cell_type": "code",
   "execution_count": 25,
   "metadata": {},
   "outputs": [
    {
     "name": "stdout",
     "output_type": "stream",
     "text": [
      "        Author       Timestamp  \\\n",
      "0  GhostLegion  24 March, 2023   \n",
      "\n",
      "                                             Comment  \\\n",
      "0  How was D3's cosmetic system cumbersome? Desti...   \n",
      "\n",
      "                         Article  \n",
      "0  8-biggest-changes-in-diablo-4  \n",
      "🧱-----🧱-----🧱-----\n",
      "Index(['Author', 'Timestamp', 'Comment', 'Article'], dtype='object')\n",
      "🧱-----🧱-----🧱-----\n",
      "(1529, 4)\n"
     ]
    }
   ],
   "source": [
    "ign14 = pd.read_csv(\"../../Data/Raw Pulls /IGN/RAW_ign_PS_comments_batch2820-3020.csv\")\n",
    "\n",
    "print(ign14.head(1))\n",
    "print(\"🧱-----🧱-----🧱-----\")\n",
    "print(ign14.columns)\n",
    "print(\"🧱-----🧱-----🧱-----\")\n",
    "print(ign14.shape)"
   ]
  },
  {
   "cell_type": "markdown",
   "metadata": {},
   "source": [
    "---"
   ]
  },
  {
   "cell_type": "markdown",
   "metadata": {},
   "source": [
    "### Batch 15"
   ]
  },
  {
   "cell_type": "code",
   "execution_count": 26,
   "metadata": {},
   "outputs": [
    {
     "name": "stdout",
     "output_type": "stream",
     "text": [
      "       Author          Timestamp  \\\n",
      "0  RealFrowns  24 February, 2023   \n",
      "\n",
      "                                             Comment  \\\n",
      "0  I definitely consider Russia's invasion of Ukr...   \n",
      "\n",
      "                                             Article  \n",
      "0  atomic-heart-apologizes-for-racist-cartoon-no-...  \n",
      "🧱-----🧱-----🧱-----\n",
      "Index(['Author', 'Timestamp', 'Comment', 'Article'], dtype='object')\n",
      "🧱-----🧱-----🧱-----\n",
      "(1565, 4)\n"
     ]
    }
   ],
   "source": [
    "ign15 = pd.read_csv(\"../../Data/Raw Pulls /IGN/RAW_ign_PS_comments_batch3020-3220.csv\")\n",
    "\n",
    "print(ign15.head(1))\n",
    "print(\"🧱-----🧱-----🧱-----\")\n",
    "print(ign15.columns)\n",
    "print(\"🧱-----🧱-----🧱-----\")\n",
    "print(ign15.shape)"
   ]
  },
  {
   "cell_type": "markdown",
   "metadata": {},
   "source": [
    "---"
   ]
  },
  {
   "cell_type": "markdown",
   "metadata": {},
   "source": [
    "### Batch 16"
   ]
  },
  {
   "cell_type": "code",
   "execution_count": 27,
   "metadata": {},
   "outputs": [
    {
     "name": "stdout",
     "output_type": "stream",
     "text": [
      "           Author         Timestamp  \\\n",
      "0  Loneranger2323  27 January, 2023   \n",
      "\n",
      "                                             Comment  \\\n",
      "0  I think IGN needs to stop comparing TCP to the...   \n",
      "\n",
      "                                             Article  \n",
      "0  what-dead-space-gets-right-that-the-callisto-p...  \n",
      "🧱-----🧱-----🧱-----\n",
      "Index(['Author', 'Timestamp', 'Comment', 'Article'], dtype='object')\n",
      "🧱-----🧱-----🧱-----\n",
      "(1138, 4)\n"
     ]
    }
   ],
   "source": [
    "ign16 = pd.read_csv(\"../../Data/Raw Pulls /IGN/RAW_ign_PS_comments_batch3220-end.csv\")\n",
    "\n",
    "print(ign16.head(1))\n",
    "print(\"🧱-----🧱-----🧱-----\")\n",
    "print(ign16.columns)\n",
    "print(\"🧱-----🧱-----🧱-----\")\n",
    "print(ign16.shape)"
   ]
  },
  {
   "cell_type": "markdown",
   "metadata": {},
   "source": [
    "---\n",
    "---\n",
    "---"
   ]
  },
  {
   "cell_type": "markdown",
   "metadata": {},
   "source": [
    "# Merging Data Sets 🧩"
   ]
  },
  {
   "cell_type": "markdown",
   "metadata": {},
   "source": [
    "---"
   ]
  },
  {
   "cell_type": "code",
   "execution_count": 29,
   "metadata": {},
   "outputs": [
    {
     "name": "stdout",
     "output_type": "stream",
     "text": [
      "Index(['Date', 'Author', 'Game Title', 'Comment Count', 'Link'], dtype='object') (3363, 5)\n",
      "🧱-----🧱-----🧱-----🧱-----🧱-----🧱-----🧱-----🧱\n",
      "Index(['Author', 'Timestamp', 'Comment', 'Article'], dtype='object') (4935, 4)\n",
      "Index(['Author', 'Timestamp', 'Comment', 'Article'], dtype='object') (3087, 4)\n",
      "Index(['Author', 'Timestamp', 'Comment', 'Article'], dtype='object') (4314, 4)\n",
      "Index(['Author', 'Timestamp', 'Comment', 'Article'], dtype='object') (4566, 4)\n",
      "Index(['Author', 'Timestamp', 'Comment', 'Article'], dtype='object') (3882, 4)\n",
      "Index(['Author', 'Timestamp', 'Comment', 'Article'], dtype='object') (3837, 4)\n",
      "Index(['Author', 'Timestamp', 'Comment', 'Article'], dtype='object') (3564, 4)\n",
      "Index(['Author', 'Timestamp', 'Comment', 'Article'], dtype='object') (1584, 4)\n",
      "Index(['Author', 'Timestamp', 'Comment', 'Article'], dtype='object') (1639, 4)\n",
      "Index(['Author', 'Timestamp', 'Comment', 'Article'], dtype='object') (1615, 4)\n",
      "Index(['Author', 'Timestamp', 'Comment', 'Article'], dtype='object') (1477, 4)\n",
      "Index(['Author', 'Timestamp', 'Comment', 'Article'], dtype='object') (1509, 4)\n",
      "Index(['Author', 'Timestamp', 'Comment', 'Article'], dtype='object') (1516, 4)\n",
      "Index(['Author', 'Timestamp', 'Comment', 'Article'], dtype='object') (1529, 4)\n",
      "Index(['Author', 'Timestamp', 'Comment', 'Article'], dtype='object') (1565, 4)\n",
      "Index(['Author', 'Timestamp', 'Comment', 'Article'], dtype='object') (1138, 4)\n"
     ]
    }
   ],
   "source": [
    "print(ign0.columns, ign0.shape)\n",
    "print(\"🧱-----🧱-----🧱-----🧱-----🧱-----🧱-----🧱-----🧱\")\n",
    "print(ign1.columns, ign1.shape)\n",
    "print(ign2.columns, ign2.shape)\n",
    "print(ign3.columns, ign3.shape)\n",
    "print(ign4.columns, ign4.shape)\n",
    "print(ign5.columns, ign5.shape)\n",
    "print(ign6.columns, ign6.shape)\n",
    "print(ign7.columns, ign7.shape)\n",
    "print(ign8.columns, ign8.shape)\n",
    "print(ign9.columns, ign9.shape)\n",
    "print(ign10.columns, ign10.shape)\n",
    "print(ign11.columns, ign11.shape)\n",
    "print(ign12.columns, ign12.shape)\n",
    "print(ign13.columns, ign13.shape)\n",
    "print(ign14.columns, ign14.shape)\n",
    "print(ign15.columns, ign15.shape)\n",
    "print(ign16.columns, ign16.shape)"
   ]
  },
  {
   "cell_type": "code",
   "execution_count": 30,
   "metadata": {},
   "outputs": [],
   "source": [
    "ign_full = pd.concat([ign1, ign2, ign3, ign4, ign5, ign6, ign7, ign8, ign9, ign10, ign11, ign12, ign13, ign14, ign15, ign16], axis=0)"
   ]
  },
  {
   "cell_type": "code",
   "execution_count": 33,
   "metadata": {},
   "outputs": [
    {
     "name": "stdout",
     "output_type": "stream",
     "text": [
      "Index(['Author', 'Timestamp', 'Comment', 'Article'], dtype='object') (41757, 4)\n",
      "Index(['Date', 'Author', 'Game Title', 'Comment Count', 'Link'], dtype='object') (3363, 5)\n"
     ]
    }
   ],
   "source": [
    "print(ign_full.columns, ign_full.shape)\n",
    "print(ign0.columns, ign0.shape)"
   ]
  },
  {
   "cell_type": "markdown",
   "metadata": {},
   "source": [
    "### this is where I realized.... i eff'd up. \n",
    "`now i need to derive the article from the link again to create a key so that I can merge and get the game title ...`"
   ]
  },
  {
   "cell_type": "code",
   "execution_count": 35,
   "metadata": {},
   "outputs": [
    {
     "name": "stdout",
     "output_type": "stream",
     "text": [
      "Index(['Extracted Article', 'Game Title'], dtype='object') (3358, 2)\n",
      "                                   Extracted Article         Game Title\n",
      "0  daily-deals-the-last-of-us-part-i-spider-man-m...  GameSwitch Sports\n"
     ]
    }
   ],
   "source": [
    "ign0['Extracted Article'] = ign0['Link'].apply(lambda x: x.split('/')[-1])\n",
    "\n",
    "game_map = ign0[[\"Extracted Article\", \"Game Title\"]].drop_duplicates()\n",
    "\n",
    "print(game_map.columns, game_map.shape)\n",
    "\n",
    "print(game_map.head(1))"
   ]
  },
  {
   "cell_type": "code",
   "execution_count": 37,
   "metadata": {},
   "outputs": [
    {
     "name": "stdout",
     "output_type": "stream",
     "text": [
      "Index(['Author', 'Timestamp', 'Comment', 'Article', 'Game Title'], dtype='object') (41795, 5)\n"
     ]
    }
   ],
   "source": [
    "IGN_Final = ign_full.merge(game_map, left_on='Article', right_on='Extracted Article', how='left')\n",
    "\n",
    "IGN_Final = IGN_Final.drop(['Extracted Article'], axis=1)\n",
    "\n",
    "print(IGN_Final.columns, IGN_Final.shape)"
   ]
  },
  {
   "cell_type": "code",
   "execution_count": 39,
   "metadata": {},
   "outputs": [],
   "source": [
    "# IGN_Final.to_csv(\"IGN_Final.csv\", index=False)"
   ]
  }
 ],
 "metadata": {
  "kernelspec": {
   "display_name": "Python 3",
   "language": "python",
   "name": "python3"
  },
  "language_info": {
   "codemirror_mode": {
    "name": "ipython",
    "version": 3
   },
   "file_extension": ".py",
   "mimetype": "text/x-python",
   "name": "python",
   "nbconvert_exporter": "python",
   "pygments_lexer": "ipython3",
   "version": "3.11.3"
  },
  "orig_nbformat": 4
 },
 "nbformat": 4,
 "nbformat_minor": 2
}
