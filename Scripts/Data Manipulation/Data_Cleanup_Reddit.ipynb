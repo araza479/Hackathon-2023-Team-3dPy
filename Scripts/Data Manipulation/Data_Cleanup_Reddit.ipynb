{
 "cells": [
  {
   "cell_type": "markdown",
   "metadata": {},
   "source": [
    "# Cleaning Reddit Data 🧹"
   ]
  },
  {
   "cell_type": "markdown",
   "metadata": {},
   "source": [
    "---\n",
    "---\n",
    "---"
   ]
  },
  {
   "cell_type": "code",
   "execution_count": 1,
   "metadata": {},
   "outputs": [],
   "source": [
    "import pandas as pd \n",
    "from itables import show"
   ]
  },
  {
   "cell_type": "markdown",
   "metadata": {},
   "source": [
    "---\n",
    "---"
   ]
  },
  {
   "cell_type": "markdown",
   "metadata": {},
   "source": [
    "## r/Playstation"
   ]
  },
  {
   "cell_type": "code",
   "execution_count": 2,
   "metadata": {},
   "outputs": [],
   "source": [
    "raw_playstation0 = pd.read_csv(\"../../Data/Raw Pulls /Reddit/RAW_rPlaystation_reddit_titles.csv\")\n",
    "raw_playstation1 = pd.read_csv(\"../../Data/Raw Pulls /Reddit/RAW_rPlaystation_reddit_comments_batch0-50.csv\")\n",
    "raw_playstation2 = pd.read_csv(\"../../Data/Raw Pulls /Reddit/RAW_rPlaystation_reddit_comments_batch50-150.csv\")\n",
    "raw_playstation3 = pd.read_csv(\"../../Data/Raw Pulls /Reddit/RAW_rPlaystation_reddit_comments_batch150-end.csv\")"
   ]
  },
  {
   "cell_type": "code",
   "execution_count": 3,
   "metadata": {},
   "outputs": [
    {
     "name": "stdout",
     "output_type": "stream",
     "text": [
      "Index(['Date', 'Title', 'Link', 'Comments', 'Author', 'Upvotes'], dtype='object') (247, 6)\n",
      "🟦----------------------------------------------🟦\n",
      "Index(['Article', 'Author', 'Timestamp', 'Comment'], dtype='object') (11185, 4)\n",
      "Index(['Article', 'Author', 'Timestamp', 'Comment'], dtype='object') (20264, 4)\n",
      "Index(['Article', 'Author', 'Timestamp', 'Comment'], dtype='object') (6885, 4)\n"
     ]
    }
   ],
   "source": [
    "print(raw_playstation0.columns, raw_playstation0.shape)\n",
    "print(\"🟦----------------------------------------------🟦\")\n",
    "print(raw_playstation1.columns, raw_playstation1.shape)\n",
    "print(raw_playstation2.columns, raw_playstation2.shape)\n",
    "print(raw_playstation3.columns, raw_playstation3.shape)"
   ]
  },
  {
   "cell_type": "code",
   "execution_count": 4,
   "metadata": {},
   "outputs": [
    {
     "name": "stdout",
     "output_type": "stream",
     "text": [
      "Index(['Article', 'Author', 'Timestamp', 'Comment'], dtype='object') (38334, 4)\n"
     ]
    }
   ],
   "source": [
    "raw_playstation_full = pd.concat([raw_playstation1, raw_playstation2, raw_playstation3])\n",
    "\n",
    "print(raw_playstation_full.columns, raw_playstation_full.shape)"
   ]
  },
  {
   "cell_type": "code",
   "execution_count": 5,
   "metadata": {},
   "outputs": [
    {
     "name": "stdout",
     "output_type": "stream",
     "text": [
      "Index(['Author', 'Timestamp', 'Comment', 'Title', 'Upvotes'], dtype='object') (38334, 5)\n"
     ]
    }
   ],
   "source": [
    "rPlaystation = raw_playstation_full.merge(raw_playstation0[['Link', 'Title', 'Upvotes']], left_on='Article', right_on='Link', how='left')\n",
    "\n",
    "rPlaystation_full = rPlaystation.drop(columns=['Link', 'Article'])\n",
    "\n",
    "print(rPlaystation_full.columns, rPlaystation_full.shape)"
   ]
  },
  {
   "cell_type": "markdown",
   "metadata": {},
   "source": [
    "---\n",
    "---"
   ]
  },
  {
   "cell_type": "markdown",
   "metadata": {},
   "source": [
    "## r/PlaystationPlus"
   ]
  },
  {
   "cell_type": "code",
   "execution_count": 6,
   "metadata": {},
   "outputs": [],
   "source": [
    "raw_playstationPlus0 = pd.read_csv(\"../../Data/Raw Pulls /Reddit/RAW_rPlaystationPlus_reddit_titles.csv\")\n",
    "raw_playstationPlus1 = pd.read_csv(\"../../Data/Raw Pulls /Reddit/RAW_rPlaystationPlus_reddit_comments_batch0-125.csv\")\n",
    "raw_playstationPlus2 = pd.read_csv(\"../../Data/Raw Pulls /Reddit/RAW_rPlaystationPlus_reddit_comments_batch126-end.csv\")"
   ]
  },
  {
   "cell_type": "code",
   "execution_count": 7,
   "metadata": {},
   "outputs": [
    {
     "name": "stdout",
     "output_type": "stream",
     "text": [
      "Index(['Date', 'Title', 'Link', 'Comments', 'Author', 'Upvotes'], dtype='object') (248, 6)\n",
      "🟦----------------------------------------------🟦\n",
      "Index(['Article', 'Author', 'Timestamp', 'Comment'], dtype='object') (13518, 4)\n",
      "Index(['Article', 'Author', 'Timestamp', 'Comment'], dtype='object') (6082, 4)\n"
     ]
    }
   ],
   "source": [
    "print(raw_playstationPlus0.columns, raw_playstationPlus0.shape)\n",
    "print(\"🟦----------------------------------------------🟦\")\n",
    "print(raw_playstationPlus1.columns, raw_playstationPlus1.shape)\n",
    "print(raw_playstationPlus2.columns, raw_playstationPlus2.shape)"
   ]
  },
  {
   "cell_type": "code",
   "execution_count": 8,
   "metadata": {},
   "outputs": [
    {
     "name": "stdout",
     "output_type": "stream",
     "text": [
      "Index(['Article', 'Author', 'Timestamp', 'Comment'], dtype='object') (19600, 4)\n"
     ]
    }
   ],
   "source": [
    "playstationPlus_full = pd.concat([raw_playstationPlus1, raw_playstationPlus2])\n",
    "\n",
    "print(playstationPlus_full.columns, playstationPlus_full.shape)"
   ]
  },
  {
   "cell_type": "code",
   "execution_count": 9,
   "metadata": {},
   "outputs": [
    {
     "name": "stdout",
     "output_type": "stream",
     "text": [
      "Index(['Author', 'Timestamp', 'Comment', 'Title', 'Upvotes'], dtype='object') (19600, 5)\n"
     ]
    }
   ],
   "source": [
    "rPlaystationPlus = playstationPlus_full.merge(raw_playstationPlus0[['Link', 'Title', 'Upvotes']], left_on='Article', right_on='Link', how='left')\n",
    "\n",
    "rPlaystationPlus_full = rPlaystationPlus.drop(columns=['Link', 'Article'])\n",
    "\n",
    "print(rPlaystationPlus_full.columns, rPlaystationPlus_full.shape)"
   ]
  },
  {
   "cell_type": "markdown",
   "metadata": {},
   "source": [
    "---\n",
    "---"
   ]
  },
  {
   "cell_type": "markdown",
   "metadata": {},
   "source": [
    "## r/PlaystationPortal"
   ]
  },
  {
   "cell_type": "code",
   "execution_count": 10,
   "metadata": {},
   "outputs": [],
   "source": [
    "raw_playstationPortal0 = pd.read_csv(\"../../Data/Raw Pulls /Reddit/RAW_rPlaystationPortal_reddit_titles.csv\")\n",
    "raw_playstationPortal1 = pd.read_csv(\"../../Data/Raw Pulls /Reddit/RAW_rPlaystationPortal_reddit_comments_batch0-end.csv\")"
   ]
  },
  {
   "cell_type": "code",
   "execution_count": 11,
   "metadata": {},
   "outputs": [
    {
     "name": "stdout",
     "output_type": "stream",
     "text": [
      "Index(['Date', 'Title', 'Link', 'Comments', 'Author', 'Upvotes'], dtype='object') (250, 6)\n",
      "🟦----------------------------------------------🟦\n",
      "Index(['Article', 'Author', 'Timestamp', 'Comment'], dtype='object') (8816, 4)\n"
     ]
    }
   ],
   "source": [
    "print(raw_playstationPortal0.columns, raw_playstationPortal0.shape)\n",
    "print(\"🟦----------------------------------------------🟦\")\n",
    "print(raw_playstationPortal1.columns, raw_playstationPortal1.shape)"
   ]
  },
  {
   "cell_type": "code",
   "execution_count": 12,
   "metadata": {},
   "outputs": [
    {
     "name": "stdout",
     "output_type": "stream",
     "text": [
      "Index(['Author', 'Timestamp', 'Comment', 'Title', 'Upvotes'], dtype='object') (8816, 5)\n"
     ]
    }
   ],
   "source": [
    "rPlaystationPortal = raw_playstationPortal1.merge(raw_playstationPortal0[['Link', 'Title', 'Upvotes']], left_on='Article', right_on='Link', how='left')\n",
    "\n",
    "rPlaystationPortal_full = rPlaystationPortal.drop(columns=['Link', 'Article'])\n",
    "\n",
    "print(rPlaystationPortal_full.columns, rPlaystationPortal_full.shape)"
   ]
  },
  {
   "cell_type": "markdown",
   "metadata": {},
   "source": [
    "---\n",
    "---"
   ]
  },
  {
   "cell_type": "markdown",
   "metadata": {},
   "source": [
    "## r/PS4"
   ]
  },
  {
   "cell_type": "code",
   "execution_count": 14,
   "metadata": {},
   "outputs": [],
   "source": [
    "raw_ps40 = pd.read_csv(\"../../Data/Raw Pulls /Reddit/RAW_rPS4_reddit_titles.csv\")\n",
    "raw_ps41 = pd.read_csv(\"../../Data/Raw Pulls /Reddit/RAW_rPS4_reddit_comments_batch0-end.csv\")"
   ]
  },
  {
   "cell_type": "code",
   "execution_count": 15,
   "metadata": {},
   "outputs": [
    {
     "name": "stdout",
     "output_type": "stream",
     "text": [
      "Index(['Date', 'Title', 'Link', 'Comments', 'Author', 'Upvotes'], dtype='object') (247, 6)\n",
      "🟦----------------------------------------------🟦\n",
      "Index(['Article', 'Author', 'Timestamp', 'Comment'], dtype='object') (22531, 4)\n"
     ]
    }
   ],
   "source": [
    "print(raw_ps40.columns, raw_ps40.shape)\n",
    "print(\"🟦----------------------------------------------🟦\")\n",
    "print(raw_ps41.columns, raw_ps41.shape)"
   ]
  },
  {
   "cell_type": "code",
   "execution_count": 16,
   "metadata": {},
   "outputs": [
    {
     "name": "stdout",
     "output_type": "stream",
     "text": [
      "Index(['Author', 'Timestamp', 'Comment', 'Title', 'Upvotes'], dtype='object') (22531, 5)\n"
     ]
    }
   ],
   "source": [
    "rPS4 = raw_ps41.merge(raw_ps40[['Link', 'Title', 'Upvotes']], left_on='Article', right_on='Link', how='left')\n",
    "\n",
    "rPS4_full = rPS4.drop(columns=['Link', 'Article'])\n",
    "\n",
    "print(rPS4_full.columns, rPS4_full.shape)"
   ]
  },
  {
   "cell_type": "markdown",
   "metadata": {},
   "source": [
    "---\n",
    "---"
   ]
  },
  {
   "cell_type": "markdown",
   "metadata": {},
   "source": [
    "## r/PS5"
   ]
  },
  {
   "cell_type": "code",
   "execution_count": 17,
   "metadata": {},
   "outputs": [],
   "source": [
    "raw_ps50 = pd.read_csv(\"../../Data/Raw Pulls /Reddit/RAW_rPS5_reddit_titles.csv\")\n",
    "raw_ps51 = pd.read_csv(\"../../Data/Raw Pulls /Reddit/RAW_rPS5_reddit_comments_batch0-end.csv\")"
   ]
  },
  {
   "cell_type": "code",
   "execution_count": 18,
   "metadata": {},
   "outputs": [
    {
     "name": "stdout",
     "output_type": "stream",
     "text": [
      "Index(['Date', 'Title', 'Link', 'Comments', 'Author', 'Upvotes'], dtype='object') (247, 6)\n",
      "🟦----------------------------------------------🟦\n",
      "Index(['Article', 'Author', 'Timestamp', 'Comment'], dtype='object') (56142, 4)\n"
     ]
    }
   ],
   "source": [
    "print(raw_ps50.columns, raw_ps50.shape)\n",
    "print(\"🟦----------------------------------------------🟦\")\n",
    "print(raw_ps51.columns, raw_ps51.shape)"
   ]
  },
  {
   "cell_type": "code",
   "execution_count": 19,
   "metadata": {},
   "outputs": [
    {
     "name": "stdout",
     "output_type": "stream",
     "text": [
      "Index(['Author', 'Timestamp', 'Comment', 'Title', 'Upvotes'], dtype='object') (56142, 5)\n"
     ]
    }
   ],
   "source": [
    "rPS5 = raw_ps51.merge(raw_ps50[['Link', 'Title', 'Upvotes']], left_on='Article', right_on='Link', how='left')\n",
    "\n",
    "rPS5_full = rPS5.drop(columns=['Link', 'Article'])\n",
    "\n",
    "print(rPS5_full.columns, rPS5_full.shape)"
   ]
  },
  {
   "cell_type": "markdown",
   "metadata": {},
   "source": [
    "---\n",
    "---"
   ]
  },
  {
   "cell_type": "markdown",
   "metadata": {},
   "source": [
    "## r/PSVR"
   ]
  },
  {
   "cell_type": "code",
   "execution_count": 20,
   "metadata": {},
   "outputs": [],
   "source": [
    "raw_psvr0 = pd.read_csv(\"../../Data/Raw Pulls /Reddit/RAW_rPSVR_reddit_titles.csv\")\n",
    "raw_psvr1 = pd.read_csv(\"../../Data/Raw Pulls /Reddit/RAW_rPSVR_reddit_comments_batch0-end.csv\")"
   ]
  },
  {
   "cell_type": "code",
   "execution_count": 21,
   "metadata": {},
   "outputs": [
    {
     "name": "stdout",
     "output_type": "stream",
     "text": [
      "Index(['Date', 'Title', 'Link', 'Comments', 'Author', 'Upvotes'], dtype='object') (248, 6)\n",
      "🟦----------------------------------------------🟦\n",
      "Index(['Article', 'Author', 'Timestamp', 'Comment'], dtype='object') (25935, 4)\n"
     ]
    }
   ],
   "source": [
    "print(raw_psvr0.columns, raw_psvr0.shape)\n",
    "print(\"🟦----------------------------------------------🟦\")\n",
    "print(raw_psvr1.columns, raw_psvr1.shape)"
   ]
  },
  {
   "cell_type": "code",
   "execution_count": 22,
   "metadata": {},
   "outputs": [
    {
     "name": "stdout",
     "output_type": "stream",
     "text": [
      "Index(['Author', 'Timestamp', 'Comment', 'Title', 'Upvotes'], dtype='object') (25935, 5)\n"
     ]
    }
   ],
   "source": [
    "rPSVR = raw_psvr1.merge(raw_psvr0[['Link', 'Title', 'Upvotes']], left_on='Article', right_on='Link', how='left')\n",
    "\n",
    "rPSVR_full = rPSVR.drop(columns=['Link', 'Article'])\n",
    "\n",
    "print(rPSVR_full.columns, rPSVR_full.shape)"
   ]
  },
  {
   "cell_type": "markdown",
   "metadata": {},
   "source": [
    "---\n",
    "---\n",
    "---"
   ]
  },
  {
   "cell_type": "markdown",
   "metadata": {},
   "source": [
    "# Merging Data 🧩"
   ]
  },
  {
   "cell_type": "code",
   "execution_count": 23,
   "metadata": {},
   "outputs": [
    {
     "name": "stdout",
     "output_type": "stream",
     "text": [
      "Index(['Author', 'Timestamp', 'Comment', 'Title', 'Upvotes'], dtype='object') (38334, 5)\n",
      "Index(['Author', 'Timestamp', 'Comment', 'Title', 'Upvotes'], dtype='object') (19600, 5)\n",
      "Index(['Author', 'Timestamp', 'Comment', 'Title', 'Upvotes'], dtype='object') (8816, 5)\n",
      "Index(['Author', 'Timestamp', 'Comment', 'Title', 'Upvotes'], dtype='object') (22531, 5)\n",
      "Index(['Author', 'Timestamp', 'Comment', 'Title', 'Upvotes'], dtype='object') (56142, 5)\n",
      "Index(['Author', 'Timestamp', 'Comment', 'Title', 'Upvotes'], dtype='object') (25935, 5)\n"
     ]
    }
   ],
   "source": [
    "print(rPlaystation_full.columns, rPlaystation_full.shape)\n",
    "print(rPlaystationPlus_full.columns, rPlaystationPlus_full.shape)\n",
    "print(rPlaystationPortal_full.columns, rPlaystationPortal_full.shape)\n",
    "print(rPS4_full.columns, rPS4_full.shape)\n",
    "print(rPS5_full.columns, rPS5_full.shape)\n",
    "print(rPSVR_full.columns, rPSVR_full.shape)"
   ]
  },
  {
   "cell_type": "code",
   "execution_count": 24,
   "metadata": {},
   "outputs": [
    {
     "name": "stdout",
     "output_type": "stream",
     "text": [
      "Index(['Author', 'Timestamp', 'Comment', 'Title', 'Upvotes'], dtype='object') (171358, 5)\n"
     ]
    }
   ],
   "source": [
    "Reddit_Final = pd.concat([rPlaystation_full, rPlaystationPlus_full, rPlaystationPortal_full, rPS4_full, rPS5_full, rPSVR_full])\n",
    "\n",
    "print(Reddit_Final.columns, Reddit_Final.shape)"
   ]
  },
  {
   "cell_type": "code",
   "execution_count": 26,
   "metadata": {},
   "outputs": [],
   "source": [
    "# Reddit_Final.to_csv(\"Reddit_Final.csv\", index=False)"
   ]
  }
 ],
 "metadata": {
  "kernelspec": {
   "display_name": "Python 3",
   "language": "python",
   "name": "python3"
  },
  "language_info": {
   "codemirror_mode": {
    "name": "ipython",
    "version": 3
   },
   "file_extension": ".py",
   "mimetype": "text/x-python",
   "name": "python",
   "nbconvert_exporter": "python",
   "pygments_lexer": "ipython3",
   "version": "3.11.3"
  },
  "orig_nbformat": 4
 },
 "nbformat": 4,
 "nbformat_minor": 2
}
