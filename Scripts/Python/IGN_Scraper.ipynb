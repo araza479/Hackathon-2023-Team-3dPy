{
 "cells": [
  {
   "cell_type": "markdown",
   "metadata": {},
   "source": [
    "# IGN Scraper for PlayStation Posts 🎮\n",
    "\n",
    "**https://www.ign.com/robots.txt**"
   ]
  },
  {
   "cell_type": "code",
   "execution_count": 37,
   "metadata": {},
   "outputs": [],
   "source": [
    "from selenium import webdriver\n",
    "from selenium.webdriver.common.by import By\n",
    "import time\n",
    "from bs4 import BeautifulSoup\n",
    "import pandas as pd"
   ]
  },
  {
   "cell_type": "code",
   "execution_count": 39,
   "metadata": {},
   "outputs": [],
   "source": [
    "def scroll_to_bottom(driver):\n",
    "    last_height = driver.execute_script(\"return document.body.scrollHeight\")\n",
    "    while True:\n",
    "        driver.execute_script(\"window.scrollTo(0, document.body.scrollHeight);\")\n",
    "        print(\"Loading more comments...\")\n",
    "        time.sleep(5) \n",
    "        soup = BeautifulSoup(driver.page_source, 'html.parser')\n",
    "        print(\"Soup created\")  \n",
    "        date_elements = soup.find_all('div', class_='interface jsx-153568585 jsx-957202555 item-subtitle small')\n",
    "        print(f\"Found {len(date_elements)} date elements\")  \n",
    "        for date_element in date_elements:\n",
    "            text = date_element.get_text(strip=True).split('-')[0].strip()  \n",
    "            print(f\"Checking date: {text}\")  \n",
    "            if '2022' in text:  \n",
    "                print(\"Date found, stopping scroll\")  \n",
    "                return\n",
    "        new_height = driver.execute_script(\"return document.body.scrollHeight\")\n",
    "        if new_height == last_height:\n",
    "            break  \n",
    "        last_height = new_height  "
   ]
  },
  {
   "cell_type": "code",
   "execution_count": 40,
   "metadata": {},
   "outputs": [],
   "source": [
    "def extract_data(driver):\n",
    "    soup = BeautifulSoup(driver.page_source, 'html.parser')\n",
    "    items = soup.find_all('div', class_='content-item jsx-1409608325 row divider')\n",
    "    data = []\n",
    "    for item in items:\n",
    "        title = item.find('span', class_='item-title bold').get_text(strip=True) if item.find('span', class_='item-title bold') else ''\n",
    "        date = item.find('div', class_='interface jsx-153568585 jsx-957202555 item-subtitle small').get_text(strip=True).split('-')[0].strip() if item.find('div', class_='interface jsx-153568585 jsx-957202555 item-subtitle small') else 'Null'\n",
    "        author_link = item.find('object', title='Author Link')\n",
    "        author = author_link.find('a').get_text(strip=True) if author_link and author_link.find('a') else 'Null'\n",
    "        comment_text = item.find('div', class_='caption jsx-789695853 comment-count data small').get_text(strip=True) if item.find('div', class_='caption jsx-789695853 comment-count data small') else ''\n",
    "        comment_count = ''.join(filter(str.isdigit, comment_text)) \n",
    "        comment_count = int(comment_count) if comment_count else 0\n",
    "        related_content_link = item.find('object', title='Related Content Link')\n",
    "        game_title = related_content_link.find('a').get_text(strip=True) if related_content_link and related_content_link.find('a') else 'Null'\n",
    "        link = item.find('a', href=True)['href'] if item.find('a', href=True) else 'Null'\n",
    "        data.append({\n",
    "            'Date': date,\n",
    "            'Title': title,\n",
    "            'Author': author,\n",
    "            'Game Title': game_title,\n",
    "            'Comment Count': comment_count,\n",
    "            'Link': 'https://www.ign.com' + link\n",
    "        })\n",
    "    return data"
   ]
  },
  {
   "cell_type": "code",
   "execution_count": 41,
   "metadata": {},
   "outputs": [],
   "source": [
    "def scrape_ign():\n",
    "    driver = webdriver.Chrome()\n",
    "    driver.get(\"https://www.ign.com/?filter=playstation\")\n",
    "    scroll_to_bottom(driver)\n",
    "    scraped_data = extract_data(driver)\n",
    "    driver.quit()\n",
    "    return pd.DataFrame(scraped_data)"
   ]
  },
  {
   "cell_type": "code",
   "execution_count": null,
   "metadata": {},
   "outputs": [],
   "source": [
    "df = scrape_ign()\n",
    "print(df)"
   ]
  },
  {
   "cell_type": "markdown",
   "metadata": {},
   "source": [
    "---\n",
    "---\n",
    "---"
   ]
  },
  {
   "cell_type": "markdown",
   "metadata": {},
   "source": [
    "# 🔍 Inspection Area 🥼 🤓"
   ]
  },
  {
   "cell_type": "code",
   "execution_count": null,
   "metadata": {},
   "outputs": [],
   "source": [
    "from itables import show \n",
    "\n",
    "show(df)"
   ]
  },
  {
   "cell_type": "code",
   "execution_count": null,
   "metadata": {},
   "outputs": [],
   "source": [
    "print(df.head(2))\n",
    "\n",
    "print(df.shape)"
   ]
  },
  {
   "cell_type": "code",
   "execution_count": null,
   "metadata": {},
   "outputs": [],
   "source": [
    "# to csv\n",
    "# df.to_csv('RAW_ign_PS_titles.csv', index=False)"
   ]
  }
 ],
 "metadata": {
  "kernelspec": {
   "display_name": "Python 3",
   "language": "python",
   "name": "python3"
  },
  "language_info": {
   "codemirror_mode": {
    "name": "ipython",
    "version": 3
   },
   "file_extension": ".py",
   "mimetype": "text/x-python",
   "name": "python",
   "nbconvert_exporter": "python",
   "pygments_lexer": "ipython3",
   "version": "3.11.3"
  },
  "orig_nbformat": 4
 },
 "nbformat": 4,
 "nbformat_minor": 2
}
