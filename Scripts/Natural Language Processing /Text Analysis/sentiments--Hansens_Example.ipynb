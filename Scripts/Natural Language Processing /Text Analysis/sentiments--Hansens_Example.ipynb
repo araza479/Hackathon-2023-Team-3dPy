{
 "cells": [
  {
   "cell_type": "code",
   "execution_count": 2,
   "id": "cff8da67",
   "metadata": {},
   "outputs": [],
   "source": [
    "import nltk\n",
    "# nltk.download(\"vader_lexicon\") # only need to run this once\n",
    "from nltk.sentiment.vader import SentimentIntensityAnalyzer\n",
    "vader = SentimentIntensityAnalyzer()\n",
    "import pandas as pd"
   ]
  },
  {
   "cell_type": "code",
   "execution_count": 3,
   "id": "48293f9b",
   "metadata": {},
   "outputs": [],
   "source": [
    "# simple example\n",
    "data = pd.read_csv('../data/example.csv')"
   ]
  },
  {
   "cell_type": "code",
   "execution_count": 4,
   "metadata": {},
   "outputs": [
    {
     "name": "stdout",
     "output_type": "stream",
     "text": [
      "This is a great product - I really love it. I received my order quickly with no problems. It looks amazing. But the manual is not good.\n",
      "This is a great product - I really love it. I received my order quickly with no problems. It looks amazing\n",
      "What a horrible product! It's totally useless. There is no point in buying this even if you like the brand\n",
      "This is not a terrible product. It really isn't that bad. It also not great.\n"
     ]
    }
   ],
   "source": [
    "print(data['text'][0])\n",
    "print(data['text'][1])\n",
    "print(data['text'][2])\n",
    "print(data['text'][3])\n",
    "  "
   ]
  },
  {
   "cell_type": "code",
   "execution_count": 5,
   "id": "7a263ca3",
   "metadata": {},
   "outputs": [
    {
     "data": {
      "text/plain": [
       "[{'neg': 0.21, 'neu': 0.544, 'pos': 0.246, 'compound': 0.2818},\n",
       " {'neg': 0.167, 'neu': 0.41, 'pos': 0.423, 'compound': 0.8588},\n",
       " {'neg': 0.342, 'neu': 0.564, 'pos': 0.094, 'compound': -0.7639},\n",
       " {'neg': 0.165, 'neu': 0.551, 'pos': 0.284, 'compound': 0.3343}]"
      ]
     },
     "execution_count": 5,
     "metadata": {},
     "output_type": "execute_result"
    }
   ],
   "source": [
    "sentiments = [vader.polarity_scores(document) for document in data['text']]\n",
    "sentiments"
   ]
  },
  {
   "cell_type": "code",
   "execution_count": 6,
   "id": "46077d2b",
   "metadata": {},
   "outputs": [],
   "source": [
    "# review data\n",
    "# load review data for las vegas hotels \n",
    "reviews = pd.read_csv('../data/vegas_hotel_reviews.csv')\n",
    "business = pd.read_csv('../data/vegas_hotel_info.csv')[[\"business_id\", \"name\"]]"
   ]
  },
  {
   "cell_type": "code",
   "execution_count": 11,
   "id": "d6eeb256",
   "metadata": {},
   "outputs": [],
   "source": [
    "# add sentiment scores to dataframe\n",
    "reviews[\"scores\"] = reviews[\"text\"].apply(lambda text: vader.polarity_scores(text))"
   ]
  },
  {
   "cell_type": "code",
   "execution_count": 8,
   "id": "67de4fa4",
   "metadata": {},
   "outputs": [],
   "source": [
    "# extract compound score\n",
    "reviews[\"compound\"] = reviews[\"scores\"].apply(lambda score_dict: score_dict[\"compound\"])"
   ]
  },
  {
   "cell_type": "code",
   "execution_count": 9,
   "id": "9ba650a7",
   "metadata": {},
   "outputs": [
    {
     "data": {
      "text/html": [
       "<div>\n",
       "<style scoped>\n",
       "    .dataframe tbody tr th:only-of-type {\n",
       "        vertical-align: middle;\n",
       "    }\n",
       "\n",
       "    .dataframe tbody tr th {\n",
       "        vertical-align: top;\n",
       "    }\n",
       "\n",
       "    .dataframe thead th {\n",
       "        text-align: right;\n",
       "    }\n",
       "</style>\n",
       "<table border=\"1\" class=\"dataframe\">\n",
       "  <thead>\n",
       "    <tr style=\"text-align: right;\">\n",
       "      <th></th>\n",
       "      <th>stars</th>\n",
       "      <th>compound</th>\n",
       "    </tr>\n",
       "  </thead>\n",
       "  <tbody>\n",
       "    <tr>\n",
       "      <th>0</th>\n",
       "      <td>1</td>\n",
       "      <td>-0.121242</td>\n",
       "    </tr>\n",
       "    <tr>\n",
       "      <th>1</th>\n",
       "      <td>2</td>\n",
       "      <td>0.283465</td>\n",
       "    </tr>\n",
       "    <tr>\n",
       "      <th>2</th>\n",
       "      <td>3</td>\n",
       "      <td>0.669230</td>\n",
       "    </tr>\n",
       "    <tr>\n",
       "      <th>3</th>\n",
       "      <td>4</td>\n",
       "      <td>0.866542</td>\n",
       "    </tr>\n",
       "    <tr>\n",
       "      <th>4</th>\n",
       "      <td>5</td>\n",
       "      <td>0.889663</td>\n",
       "    </tr>\n",
       "  </tbody>\n",
       "</table>\n",
       "</div>"
      ],
      "text/plain": [
       "   stars  compound\n",
       "0      1 -0.121242\n",
       "1      2  0.283465\n",
       "2      3  0.669230\n",
       "3      4  0.866542\n",
       "4      5  0.889663"
      ]
     },
     "execution_count": 9,
     "metadata": {},
     "output_type": "execute_result"
    }
   ],
   "source": [
    "# compare sentiment across star ratings\n",
    "scoreByStar = reviews.groupby(['stars'])['compound'].mean().reset_index()\n",
    "scoreByStar \n"
   ]
  },
  {
   "cell_type": "code",
   "execution_count": 10,
   "id": "cbe18c36",
   "metadata": {},
   "outputs": [
    {
     "data": {
      "text/html": [
       "<div>\n",
       "<style scoped>\n",
       "    .dataframe tbody tr th:only-of-type {\n",
       "        vertical-align: middle;\n",
       "    }\n",
       "\n",
       "    .dataframe tbody tr th {\n",
       "        vertical-align: top;\n",
       "    }\n",
       "\n",
       "    .dataframe thead th {\n",
       "        text-align: right;\n",
       "    }\n",
       "</style>\n",
       "<table border=\"1\" class=\"dataframe\">\n",
       "  <thead>\n",
       "    <tr style=\"text-align: right;\">\n",
       "      <th></th>\n",
       "      <th>business_id</th>\n",
       "      <th>compound</th>\n",
       "      <th>name</th>\n",
       "    </tr>\n",
       "  </thead>\n",
       "  <tbody>\n",
       "    <tr>\n",
       "      <th>0</th>\n",
       "      <td>-7yF42k0CcJhtPw51oaOqQ</td>\n",
       "      <td>0.754411</td>\n",
       "      <td>Bellagio</td>\n",
       "    </tr>\n",
       "    <tr>\n",
       "      <th>4</th>\n",
       "      <td>AtjsjFzalWqJ7S9DUFQ4bw</td>\n",
       "      <td>0.750885</td>\n",
       "      <td>The Cosmopolitan of Las Vegas</td>\n",
       "    </tr>\n",
       "    <tr>\n",
       "      <th>1</th>\n",
       "      <td>34uJtlPnKicSaX1V8_tu1A</td>\n",
       "      <td>0.749164</td>\n",
       "      <td>The Venetian Resort Hotel Casino</td>\n",
       "    </tr>\n",
       "    <tr>\n",
       "      <th>5</th>\n",
       "      <td>DUdBbrvqfaqUe9GYKmYNtA</td>\n",
       "      <td>0.725046</td>\n",
       "      <td>The Mirage</td>\n",
       "    </tr>\n",
       "    <tr>\n",
       "      <th>7</th>\n",
       "      <td>JpHE7yhMS5ehA9e8WG_ETg</td>\n",
       "      <td>0.704415</td>\n",
       "      <td>Aria Hotel &amp; Casino</td>\n",
       "    </tr>\n",
       "    <tr>\n",
       "      <th>6</th>\n",
       "      <td>HMr_KN63f6MzM9h8Wije3Q</td>\n",
       "      <td>0.687764</td>\n",
       "      <td>New York - New York</td>\n",
       "    </tr>\n",
       "    <tr>\n",
       "      <th>16</th>\n",
       "      <td>uJYw4p59AKh8c8h5yWMdOw</td>\n",
       "      <td>0.655951</td>\n",
       "      <td>Planet Hollywood Las Vegas Resort &amp; Casino</td>\n",
       "    </tr>\n",
       "    <tr>\n",
       "      <th>10</th>\n",
       "      <td>TWD8c5-P7w9v-2KX_GSNZQ</td>\n",
       "      <td>0.648367</td>\n",
       "      <td>Mandalay Bay Resort &amp; Casino</td>\n",
       "    </tr>\n",
       "    <tr>\n",
       "      <th>11</th>\n",
       "      <td>_v6HIliEOn0l0YaAmBOrxw</td>\n",
       "      <td>0.639970</td>\n",
       "      <td>Treasure Island</td>\n",
       "    </tr>\n",
       "    <tr>\n",
       "      <th>13</th>\n",
       "      <td>eWPFXL1Bmu1ImtIa2Rqliw</td>\n",
       "      <td>0.629654</td>\n",
       "      <td>MGM Grand Hotel</td>\n",
       "    </tr>\n",
       "    <tr>\n",
       "      <th>14</th>\n",
       "      <td>kEC7OlpPnZRxCUyVwq7hig</td>\n",
       "      <td>0.614903</td>\n",
       "      <td>Hard Rock Hotel &amp; Casino</td>\n",
       "    </tr>\n",
       "    <tr>\n",
       "      <th>17</th>\n",
       "      <td>z3SyT8blMIhsZNvKJgKcRA</td>\n",
       "      <td>0.605243</td>\n",
       "      <td>Caesars Palace Las Vegas Hotel &amp; Casino</td>\n",
       "    </tr>\n",
       "    <tr>\n",
       "      <th>12</th>\n",
       "      <td>bYhpy9u8fKkGhYHtvYXazQ</td>\n",
       "      <td>0.600118</td>\n",
       "      <td>Paris Las Vegas Hotel &amp; Casino</td>\n",
       "    </tr>\n",
       "    <tr>\n",
       "      <th>15</th>\n",
       "      <td>ripCiWZ0MblMZSLrIKQAKA</td>\n",
       "      <td>0.592444</td>\n",
       "      <td>Monte Carlo Hotel And Casino</td>\n",
       "    </tr>\n",
       "    <tr>\n",
       "      <th>3</th>\n",
       "      <td>8IMEf_cj8KyTQojhNOyoPg</td>\n",
       "      <td>0.554662</td>\n",
       "      <td>Rio All Suites Hotel &amp; Casino</td>\n",
       "    </tr>\n",
       "    <tr>\n",
       "      <th>8</th>\n",
       "      <td>NGJDjdiDJHmN2xxU7KauuA</td>\n",
       "      <td>0.527539</td>\n",
       "      <td>Flamingo Las Vegas Hotel &amp; Casino</td>\n",
       "    </tr>\n",
       "    <tr>\n",
       "      <th>2</th>\n",
       "      <td>6LM_Klmp3hOP0JmsMCKRqQ</td>\n",
       "      <td>0.439629</td>\n",
       "      <td>Luxor Hotel And Casino Las Vegas</td>\n",
       "    </tr>\n",
       "    <tr>\n",
       "      <th>9</th>\n",
       "      <td>RbkLrCFa2AL1K25GCnNK8A</td>\n",
       "      <td>0.371382</td>\n",
       "      <td>LVH - Las Vegas Hotel &amp; Casino</td>\n",
       "    </tr>\n",
       "  </tbody>\n",
       "</table>\n",
       "</div>"
      ],
      "text/plain": [
       "               business_id  compound  \\\n",
       "0   -7yF42k0CcJhtPw51oaOqQ  0.754411   \n",
       "4   AtjsjFzalWqJ7S9DUFQ4bw  0.750885   \n",
       "1   34uJtlPnKicSaX1V8_tu1A  0.749164   \n",
       "5   DUdBbrvqfaqUe9GYKmYNtA  0.725046   \n",
       "7   JpHE7yhMS5ehA9e8WG_ETg  0.704415   \n",
       "6   HMr_KN63f6MzM9h8Wije3Q  0.687764   \n",
       "16  uJYw4p59AKh8c8h5yWMdOw  0.655951   \n",
       "10  TWD8c5-P7w9v-2KX_GSNZQ  0.648367   \n",
       "11  _v6HIliEOn0l0YaAmBOrxw  0.639970   \n",
       "13  eWPFXL1Bmu1ImtIa2Rqliw  0.629654   \n",
       "14  kEC7OlpPnZRxCUyVwq7hig  0.614903   \n",
       "17  z3SyT8blMIhsZNvKJgKcRA  0.605243   \n",
       "12  bYhpy9u8fKkGhYHtvYXazQ  0.600118   \n",
       "15  ripCiWZ0MblMZSLrIKQAKA  0.592444   \n",
       "3   8IMEf_cj8KyTQojhNOyoPg  0.554662   \n",
       "8   NGJDjdiDJHmN2xxU7KauuA  0.527539   \n",
       "2   6LM_Klmp3hOP0JmsMCKRqQ  0.439629   \n",
       "9   RbkLrCFa2AL1K25GCnNK8A  0.371382   \n",
       "\n",
       "                                          name  \n",
       "0                                     Bellagio  \n",
       "4                The Cosmopolitan of Las Vegas  \n",
       "1             The Venetian Resort Hotel Casino  \n",
       "5                                   The Mirage  \n",
       "7                          Aria Hotel & Casino  \n",
       "6                          New York - New York  \n",
       "16  Planet Hollywood Las Vegas Resort & Casino  \n",
       "10                Mandalay Bay Resort & Casino  \n",
       "11                             Treasure Island  \n",
       "13                             MGM Grand Hotel  \n",
       "14                    Hard Rock Hotel & Casino  \n",
       "17     Caesars Palace Las Vegas Hotel & Casino  \n",
       "12              Paris Las Vegas Hotel & Casino  \n",
       "15                Monte Carlo Hotel And Casino  \n",
       "3                Rio All Suites Hotel & Casino  \n",
       "8            Flamingo Las Vegas Hotel & Casino  \n",
       "2             Luxor Hotel And Casino Las Vegas  \n",
       "9               LVH - Las Vegas Hotel & Casino  "
      ]
     },
     "execution_count": 10,
     "metadata": {},
     "output_type": "execute_result"
    }
   ],
   "source": [
    "# compare sentiments across hotels\n",
    "scoreByHotel = reviews.groupby(['business_id'])['compound'].mean().reset_index()\n",
    "scoreByHotel = scoreByHotel.merge(business, on = 'business_id').sort_values(by=['compound'], ascending = False)\n",
    "scoreByHotel"
   ]
  },
  {
   "cell_type": "code",
   "execution_count": 12,
   "id": "17861bbd",
   "metadata": {},
   "outputs": [
    {
     "data": {
      "text/plain": [
       "'This place RUINED our wedding. Poison, attempted rape, disaster. We should have pressed charges.  \\n\\nMy husband and I came to Vegas to elope when we were 19 (Late 2007). Our naivety was taken advantage of. \\n\\nEverything was alright until we ordered room service on our first morning which was a deadly mistake. Eight hours later my husband was beginning to feel sick. We had ordered different things at breakfast and what he had must have been bad. We hung out at the room and went to bed early hoping he\\'d get better. But, I woke up in the middle of the night to find that my husband was throwing up in the bathroom. He didn\\'t come back to bed. I fell in and out of sleep. In the morning I found that he had spent the night in the shower due to severe uncontrollable diarrhea. He was still throwing up and still had diarrhea. He had gotten bad food poisoning from the room service food and should have gone to the hospital, but we didn\\'t have a lot of money and weren\\'t sure how much an out of state hospital bill would be. \\n\\nWhen he finally showered and made it back to the bed the bathroom was covered in puke. We decided we\\'d call the maids later when he started to feel a little better. He ended up having uncontrollable diarrhea in the bed so we then had to call the maids. This is where the HORROR get worse. \\n\\nWhen I called I told them we had puke everywhere so they sent their \"puke specialist\" first. When he arrived with his vomit kit he went into the bathroom and then came out and told me there was nothing there to clean. What the hell?? It was COVERED in bright pink chunks. Meanwhile my husband is floating in and out of consciousness on the clean part of the bed. I had to go and point out all the puke to this \"specialist\" even though he was their \"puke expert\". I don\\'t think he understood English. After that he did a very poor job of wiping up SOME of it. I had to call again to get more people to come back. \\n\\nThen another woman came in and was OBSCENELY rude to me. I must add that at 19 there wasn\\'t a mean bone in my body and I did nothing to deserve being treated this way. ---She dunked a towel in the TOILET and WIPED it over EVERYTHING in the bathroom!!--- That was how she \"cleaned\". I should have done something, but I was too nice. I just stood in horror watching and taking note of everything she was WIPING TOILET WATER ON. While she did this she harassed me for having a \"drunk\" fiance even though I told her it was food poisoning. When we had arrived at the hotel we were excited to find our fridge fully stocked with alcohol, being just 19 and 20, but we didn\\'t drink much (not religious, just not into drinking). The maid mocked me and sarcastically yelled \"SURE! FOOD POISONING!\". I couldn\\'t believe how rude she was.  I couldn\\'t believe she was \"cleaning\" with toilet water. No wonder he got food poisoning from their breakfast if that\\'s how they clean. I just wanted her to leave. She finally did so I went in the hall and grabbed a mystery unlabeled bottle of something that appeared to be cleaning supplies off of a maid cart and ignored any of them telling me not to. Obviously I was going to have to do this myself. \\n\\nI went back in the room and began spraying the solution on everything that she got toilet water on. Then a foreign man showed up to change the sheets. My husband had moved to the bathtub so that they could remove the sheets. The man completely ignored me when I told him there was shit in them. He carelessly flung them around. None of the maids were cleanly about anything. Covered in toilet water and bed shit they used our phone to do their check ins without first washing their hands. THEN the most TRAUMATIC part happened.\\n\\nMy husband was possibly dying in the bathtub and I was alone with the sheet guy waiting for him to get things done and get out. He basically had gotten the bed shit all over himself without notice or care and then came over to me and made sexual advances. He attempted to kiss and grope me!!! I told him to stop and he CONTINUED. I was fearing for my safety and thought I was going to be raped. FINALLY he left after kissing my cheek and hands and just being overwhelmingly TOO CLOSE for comfort. I felt violated. \\n\\nI can\\'t believe how generously I tipped EACH ONE of these MORON rapist assholes. I was handing out twenties just wanting the situation to end. \\n\\nI will NEVER AGAIN go to Mandalay bay. I will tell everyone to STAY AWAY. I wish I was less naive and did something about this experience at the time. I didn\\'t want anyone to lose their job because I was TOO nice. We did complain to the Mandalay Bay but they didn\\'t care and did absolutely nothing.\\n\\nDon\\'t stay here unless you want food poisoning, rape and toilet water all over everything.'"
      ]
     },
     "execution_count": 12,
     "metadata": {},
     "output_type": "execute_result"
    }
   ],
   "source": [
    "# lowest scored review\n",
    "reviews[reviews['compound'] == reviews['compound'].min()]['text'].values[0]"
   ]
  }
 ],
 "metadata": {
  "kernelspec": {
   "display_name": "Python 3",
   "language": "python",
   "name": "python3"
  },
  "language_info": {
   "codemirror_mode": {
    "name": "ipython",
    "version": 3
   },
   "file_extension": ".py",
   "mimetype": "text/x-python",
   "name": "python",
   "nbconvert_exporter": "python",
   "pygments_lexer": "ipython3",
   "version": "3.11.3"
  }
 },
 "nbformat": 4,
 "nbformat_minor": 5
}
