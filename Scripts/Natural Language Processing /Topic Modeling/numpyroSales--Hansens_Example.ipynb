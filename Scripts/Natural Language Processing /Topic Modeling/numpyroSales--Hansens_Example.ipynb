{
 "cells": [
  {
   "cell_type": "code",
   "execution_count": 1,
   "id": "6c7542d3",
   "metadata": {},
   "outputs": [],
   "source": [
    "import pandas as pd\n",
    "import numpy as np\n",
    "import numpyro\n",
    "from numpyro.infer import MCMC, NUTS, Predictive\n",
    "import numpyro.distributions as dist\n",
    "from jax import random\n",
    "import jax.numpy as jnp"
   ]
  },
  {
   "cell_type": "code",
   "execution_count": 3,
   "id": "c8b3b280",
   "metadata": {},
   "outputs": [],
   "source": [
    "sales = pd.read_csv('storeSales.csv')"
   ]
  },
  {
   "cell_type": "code",
   "execution_count": 5,
   "id": "871364ff",
   "metadata": {},
   "outputs": [],
   "source": [
    "def model(StoreID, logPrice, logVol_obs=None):\n",
    "    μ_α = numpyro.sample(\"μ_α\", dist.Normal(0.0,10.))\n",
    "    σ_α = numpyro.sample(\"σ_α\", dist.HalfCauchy(3.0))\n",
    "    μ_β = numpyro.sample(\"μ_β\", dist.Normal(0.0,10.))\n",
    "    σ_β = numpyro.sample(\"σ_β\", dist.HalfCauchy(3.0))\n",
    "\n",
    "    unique_IDs = np.unique(StoreID)\n",
    "    n_stores= len(unique_IDs)\n",
    "\n",
    "    with numpyro.plate(\"plate_i\", n_stores):\n",
    "        α = numpyro.sample(\"α\", dist.Normal(μ_α, σ_α))\n",
    "        β = numpyro.sample(\"β\", dist.Normal(μ_β, σ_β))\n",
    "\n",
    "    σ = numpyro.sample(\"σ\", dist.HalfCauchy(3.))\n",
    "    logVol_est = α[StoreID] + β[StoreID] * logPrice\n",
    "\n",
    "    with numpyro.plate(\"data\", len(StoreID)):\n",
    "        numpyro.sample(\"obs\", dist.Normal(logVol_est, σ), obs=logVol_obs)"
   ]
  },
  {
   "cell_type": "code",
   "execution_count": 6,
   "id": "3eb27f27",
   "metadata": {},
   "outputs": [],
   "source": [
    "#\n",
    "# convert raw store numbers to an index using LabelEncoder\n",
    "#\n",
    "from sklearn.preprocessing import LabelEncoder\n",
    "\n",
    "le = LabelEncoder()\n",
    "sales['StoreID'] = le.fit_transform(sales['STORE_NUM'].values)\n",
    "\n",
    "logVol_obs = sales['logVol'].values\n",
    "logPrice = sales['logFL'].values\n",
    "StoreID = sales['StoreID'].values"
   ]
  },
  {
   "cell_type": "code",
   "execution_count": 7,
   "id": "6692de16",
   "metadata": {},
   "outputs": [
    {
     "name": "stderr",
     "output_type": "stream",
     "text": [
      "sample: 100%|██████████| 4000/4000 [02:54<00:00, 22.97it/s, 127 steps of size 3.85e-02. acc. prob=0.87]\n"
     ]
    }
   ],
   "source": [
    "nuts_kernel = NUTS(model)\n",
    "\n",
    "mcmc = MCMC(nuts_kernel, num_samples=2000, num_warmup=2000)\n",
    "rng_key = random.PRNGKey(0)\n",
    "mcmc.run(rng_key, StoreID, logPrice, logVol_obs=logVol_obs)\n",
    "\n",
    "posterior_samples = mcmc.get_samples()"
   ]
  },
  {
   "cell_type": "code",
   "execution_count": 26,
   "id": "a6952e6c",
   "metadata": {},
   "outputs": [
    {
     "name": "stdout",
     "output_type": "stream",
     "text": [
      "-2.3809643\n"
     ]
    }
   ],
   "source": [
    "# get posterior mean of average price sensitivity\n",
    "coef = posterior_samples[\"μ_β\"]\n",
    "means = jnp.mean(coef, axis=0)\n",
    "print(means)\n",
    "\n"
   ]
  }
 ],
 "metadata": {
  "kernelspec": {
   "display_name": "Python 3",
   "language": "python",
   "name": "python3"
  },
  "language_info": {
   "codemirror_mode": {
    "name": "ipython",
    "version": 3
   },
   "file_extension": ".py",
   "mimetype": "text/x-python",
   "name": "python",
   "nbconvert_exporter": "python",
   "pygments_lexer": "ipython3",
   "version": "3.8.5"
  }
 },
 "nbformat": 4,
 "nbformat_minor": 5
}
