{
 "cells": [
  {
   "cell_type": "code",
   "execution_count": 51,
   "id": "7aece8e6",
   "metadata": {},
   "outputs": [],
   "source": [
    "import pandas as pd\n",
    "import numpy as np\n",
    "import numpyro\n",
    "from numpyro.infer import MCMC, NUTS, Predictive\n",
    "import numpyro.distributions as dist\n",
    "from jax import random\n",
    "import jax.numpy as jnp "
   ]
  },
  {
   "cell_type": "code",
   "execution_count": 2,
   "id": "5cba95c0",
   "metadata": {},
   "outputs": [],
   "source": [
    "uber = pd.read_csv('data/uberRidesSmall.csv')"
   ]
  },
  {
   "cell_type": "code",
   "execution_count": 4,
   "id": "7e740910",
   "metadata": {},
   "outputs": [],
   "source": [
    "def model(userID, y=None):\n",
    "    μ_α = numpyro.sample(\"μ_α\", dist.Normal(0., 5.))\n",
    "    σ_α = numpyro.sample(\"σ_α\", dist.HalfCauchy(3.))    \n",
    "\n",
    "    unique_IDs = np.unique(userID)\n",
    "    n_Users = len(unique_IDs)\n",
    "\n",
    "    with numpyro.plate(\"plate_i\", n_Users):\n",
    "        α = numpyro.sample(\"α\", dist.Normal(μ_α, σ_α))        \n",
    "\n",
    "    σ = numpyro.sample(\"σ\", dist.HalfCauchy(3.))\n",
    "    y_est = α[userID]\n",
    "\n",
    "    with numpyro.plate(\"data\", len(userID)):\n",
    "        numpyro.sample(\"obs\", dist.Normal(y_est, σ), obs=y)"
   ]
  },
  {
   "cell_type": "code",
   "execution_count": 5,
   "id": "b0996110",
   "metadata": {},
   "outputs": [],
   "source": [
    "y = uber['logAmount'].values\n",
    "userID = uber['userIndex'].values"
   ]
  },
  {
   "cell_type": "code",
   "execution_count": null,
   "id": "c2c6e548",
   "metadata": {},
   "outputs": [],
   "source": [
    "nuts_kernel = NUTS(model)\n",
    "mcmc = MCMC(nuts_kernel, num_samples=2000, num_warmup=2000)\n",
    "\n",
    "rng_key = random.PRNGKey(0)\n",
    "mcmc.run(rng_key, userID, y=y)\n",
    "\n",
    "posterior_samples = mcmc.get_samples()"
   ]
  },
  {
   "cell_type": "code",
   "execution_count": 32,
   "id": "9911bcc3",
   "metadata": {},
   "outputs": [],
   "source": [
    "coef = posterior_samples[\"α\"]"
   ]
  },
  {
   "cell_type": "code",
   "execution_count": 64,
   "id": "fa0f2b71",
   "metadata": {},
   "outputs": [],
   "source": [
    "quantiles = jnp.quantile(coef,jnp.array([0.025, 0.975]), axis=0)\n",
    "means = jnp.mean(coef, axis=0)\n",
    "\n",
    "# save the posterior means \n",
    "np.savetxt(\"alphaMeanNumPyro.csv\", np.asarray(means), delimiter=\",\")"
   ]
  }
 ],
 "metadata": {
  "kernelspec": {
   "display_name": "Python 3",
   "language": "python",
   "name": "python3"
  },
  "language_info": {
   "codemirror_mode": {
    "name": "ipython",
    "version": 3
   },
   "file_extension": ".py",
   "mimetype": "text/x-python",
   "name": "python",
   "nbconvert_exporter": "python",
   "pygments_lexer": "ipython3",
   "version": "3.8.5"
  }
 },
 "nbformat": 4,
 "nbformat_minor": 5
}
