{
 "cells": [
  {
   "cell_type": "code",
   "execution_count": 23,
   "metadata": {},
   "outputs": [],
   "source": [
    "from sklearn.feature_extraction.text import CountVectorizer\n",
    "from sklearn.decomposition import LatentDirichletAllocation\n",
    "import numpy as np\n",
    "import pandas as pd"
   ]
  },
  {
   "cell_type": "code",
   "execution_count": 24,
   "metadata": {},
   "outputs": [
    {
     "name": "stdout",
     "output_type": "stream",
     "text": [
      "            Author  Timestamp  \\\n",
      "0    KuntaWuKnicks  5 mo. ago   \n",
      "1  Ikewiththebeard  5 mo. ago   \n",
      "2    JamesJakes000  5 mo. ago   \n",
      "3         XscytheD  5 mo. ago   \n",
      "4             muws  5 mo. ago   \n",
      "\n",
      "                                             Comment  \\\n",
      "0  Can I make it louderOr customize the sound, no...   \n",
      "1             Customisable sound would be something!   \n",
      "2                                Metal gear alert...   \n",
      "3                                                  !   \n",
      "4                                      I heard this.   \n",
      "\n",
      "                      Title  Upvotes  \n",
      "0  No more waking the wife…    24300  \n",
      "1  No more waking the wife…    24300  \n",
      "2  No more waking the wife…    24300  \n",
      "3  No more waking the wife…    24300  \n",
      "4  No more waking the wife…    24300  \n",
      "(171358, 5)\n",
      "Index(['Author', 'Timestamp', 'Comment', 'Title', 'Upvotes'], dtype='object')\n"
     ]
    }
   ],
   "source": [
    "reddit = pd.read_csv(\"../../../Data/Final Dataset /Reddit/Reddit_Final.csv\")\n",
    "\n",
    "print(reddit.head())\n",
    "\n",
    "print(reddit.shape)\n",
    "print(reddit.columns)"
   ]
  },
  {
   "cell_type": "code",
   "execution_count": 25,
   "metadata": {},
   "outputs": [
    {
     "data": {
      "text/plain": [
       "(171015, 30070)"
      ]
     },
     "execution_count": 25,
     "metadata": {},
     "output_type": "execute_result"
    }
   ],
   "source": [
    "reddit_data_clean = reddit.dropna(subset=['Comment'])\n",
    "\n",
    "vectorizer = CountVectorizer(max_df=0.95, min_df=2, stop_words='english')\n",
    "data_vectorized = vectorizer.fit_transform(reddit_data_clean['Comment'])\n",
    "\n",
    "data_vectorized.shape"
   ]
  },
  {
   "cell_type": "code",
   "execution_count": 26,
   "metadata": {},
   "outputs": [
    {
     "data": {
      "text/html": [
       "<style>#sk-container-id-1 {color: black;}#sk-container-id-1 pre{padding: 0;}#sk-container-id-1 div.sk-toggleable {background-color: white;}#sk-container-id-1 label.sk-toggleable__label {cursor: pointer;display: block;width: 100%;margin-bottom: 0;padding: 0.3em;box-sizing: border-box;text-align: center;}#sk-container-id-1 label.sk-toggleable__label-arrow:before {content: \"▸\";float: left;margin-right: 0.25em;color: #696969;}#sk-container-id-1 label.sk-toggleable__label-arrow:hover:before {color: black;}#sk-container-id-1 div.sk-estimator:hover label.sk-toggleable__label-arrow:before {color: black;}#sk-container-id-1 div.sk-toggleable__content {max-height: 0;max-width: 0;overflow: hidden;text-align: left;background-color: #f0f8ff;}#sk-container-id-1 div.sk-toggleable__content pre {margin: 0.2em;color: black;border-radius: 0.25em;background-color: #f0f8ff;}#sk-container-id-1 input.sk-toggleable__control:checked~div.sk-toggleable__content {max-height: 200px;max-width: 100%;overflow: auto;}#sk-container-id-1 input.sk-toggleable__control:checked~label.sk-toggleable__label-arrow:before {content: \"▾\";}#sk-container-id-1 div.sk-estimator input.sk-toggleable__control:checked~label.sk-toggleable__label {background-color: #d4ebff;}#sk-container-id-1 div.sk-label input.sk-toggleable__control:checked~label.sk-toggleable__label {background-color: #d4ebff;}#sk-container-id-1 input.sk-hidden--visually {border: 0;clip: rect(1px 1px 1px 1px);clip: rect(1px, 1px, 1px, 1px);height: 1px;margin: -1px;overflow: hidden;padding: 0;position: absolute;width: 1px;}#sk-container-id-1 div.sk-estimator {font-family: monospace;background-color: #f0f8ff;border: 1px dotted black;border-radius: 0.25em;box-sizing: border-box;margin-bottom: 0.5em;}#sk-container-id-1 div.sk-estimator:hover {background-color: #d4ebff;}#sk-container-id-1 div.sk-parallel-item::after {content: \"\";width: 100%;border-bottom: 1px solid gray;flex-grow: 1;}#sk-container-id-1 div.sk-label:hover label.sk-toggleable__label {background-color: #d4ebff;}#sk-container-id-1 div.sk-serial::before {content: \"\";position: absolute;border-left: 1px solid gray;box-sizing: border-box;top: 0;bottom: 0;left: 50%;z-index: 0;}#sk-container-id-1 div.sk-serial {display: flex;flex-direction: column;align-items: center;background-color: white;padding-right: 0.2em;padding-left: 0.2em;position: relative;}#sk-container-id-1 div.sk-item {position: relative;z-index: 1;}#sk-container-id-1 div.sk-parallel {display: flex;align-items: stretch;justify-content: center;background-color: white;position: relative;}#sk-container-id-1 div.sk-item::before, #sk-container-id-1 div.sk-parallel-item::before {content: \"\";position: absolute;border-left: 1px solid gray;box-sizing: border-box;top: 0;bottom: 0;left: 50%;z-index: -1;}#sk-container-id-1 div.sk-parallel-item {display: flex;flex-direction: column;z-index: 1;position: relative;background-color: white;}#sk-container-id-1 div.sk-parallel-item:first-child::after {align-self: flex-end;width: 50%;}#sk-container-id-1 div.sk-parallel-item:last-child::after {align-self: flex-start;width: 50%;}#sk-container-id-1 div.sk-parallel-item:only-child::after {width: 0;}#sk-container-id-1 div.sk-dashed-wrapped {border: 1px dashed gray;margin: 0 0.4em 0.5em 0.4em;box-sizing: border-box;padding-bottom: 0.4em;background-color: white;}#sk-container-id-1 div.sk-label label {font-family: monospace;font-weight: bold;display: inline-block;line-height: 1.2em;}#sk-container-id-1 div.sk-label-container {text-align: center;}#sk-container-id-1 div.sk-container {/* jupyter's `normalize.less` sets `[hidden] { display: none; }` but bootstrap.min.css set `[hidden] { display: none !important; }` so we also need the `!important` here to be able to override the default hidden behavior on the sphinx rendered scikit-learn.org. See: https://github.com/scikit-learn/scikit-learn/issues/21755 */display: inline-block !important;position: relative;}#sk-container-id-1 div.sk-text-repr-fallback {display: none;}</style><div id=\"sk-container-id-1\" class=\"sk-top-container\"><div class=\"sk-text-repr-fallback\"><pre>LatentDirichletAllocation(random_state=0)</pre><b>In a Jupyter environment, please rerun this cell to show the HTML representation or trust the notebook. <br />On GitHub, the HTML representation is unable to render, please try loading this page with nbviewer.org.</b></div><div class=\"sk-container\" hidden><div class=\"sk-item\"><div class=\"sk-estimator sk-toggleable\"><input class=\"sk-toggleable__control sk-hidden--visually\" id=\"sk-estimator-id-1\" type=\"checkbox\" checked><label for=\"sk-estimator-id-1\" class=\"sk-toggleable__label sk-toggleable__label-arrow\">LatentDirichletAllocation</label><div class=\"sk-toggleable__content\"><pre>LatentDirichletAllocation(random_state=0)</pre></div></div></div></div></div>"
      ],
      "text/plain": [
       "LatentDirichletAllocation(random_state=0)"
      ]
     },
     "execution_count": 26,
     "metadata": {},
     "output_type": "execute_result"
    }
   ],
   "source": [
    "num_topics = 10\n",
    "no_top_words = 15\n",
    "lda_model = LatentDirichletAllocation(n_components=num_topics, random_state=0)\n",
    "lda_model.fit(data_vectorized)"
   ]
  },
  {
   "cell_type": "code",
   "execution_count": 27,
   "metadata": {},
   "outputs": [],
   "source": [
    "def display_topics(model, feature_names, no_top_words):\n",
    "    topic_dict = {}\n",
    "    for topic_idx, topic in enumerate(model.components_):\n",
    "        topic_dict[f\"Topic {topic_idx}\"] = \" \".join([feature_names[i] for i in topic.argsort()[:-no_top_words - 1:-1]])\n",
    "    return topic_dict"
   ]
  },
  {
   "cell_type": "code",
   "execution_count": 28,
   "metadata": {},
   "outputs": [
    {
     "data": {
      "text/plain": [
       "{'Topic 0': 'game like just really story good think games world fun people gameplay great make don',\n",
       " 'Topic 1': 'like games game love souls ring elden play thanks just remake https evil com dark',\n",
       " 'Topic 2': 'game ps5 years ps4 like just ve release gen version 10 new year launch gta',\n",
       " 'Topic 3': 'just order issue sony work time got post people reddit did issues update know fallen',\n",
       " 'Topic 4': 'vr like just psvr2 better headset tv screen looks yes look use good don really',\n",
       " 'Topic 5': 'people just like lol don shit fuck know fucking want think dude guy lmao let',\n",
       " 'Topic 6': 'games game sony ps just price don buy like people plus money play xbox extra',\n",
       " 'Topic 7': 'controller game fog just right left work don button controllers works way did worked use',\n",
       " 'Topic 8': 'ps5 got play disc just thank drive home use digital download internet don house friend',\n",
       " 'Topic 9': 'play game games played time just playing man ve god like got hours war ps4'}"
      ]
     },
     "execution_count": 28,
     "metadata": {},
     "output_type": "execute_result"
    }
   ],
   "source": [
    "topics = display_topics(lda_model, vectorizer.get_feature_names_out(), no_top_words)\n",
    "topics"
   ]
  },
  {
   "cell_type": "code",
   "execution_count": 29,
   "metadata": {},
   "outputs": [
    {
     "data": {
      "text/html": [
       "<div>\n",
       "<style scoped>\n",
       "    .dataframe tbody tr th:only-of-type {\n",
       "        vertical-align: middle;\n",
       "    }\n",
       "\n",
       "    .dataframe tbody tr th {\n",
       "        vertical-align: top;\n",
       "    }\n",
       "\n",
       "    .dataframe thead th {\n",
       "        text-align: right;\n",
       "    }\n",
       "</style>\n",
       "<table border=\"1\" class=\"dataframe\">\n",
       "  <thead>\n",
       "    <tr style=\"text-align: right;\">\n",
       "      <th></th>\n",
       "      <th>Topic 0</th>\n",
       "      <th>Topic 1</th>\n",
       "      <th>Topic 2</th>\n",
       "      <th>Topic 3</th>\n",
       "      <th>Topic 4</th>\n",
       "      <th>Topic 5</th>\n",
       "      <th>Topic 6</th>\n",
       "      <th>Topic 7</th>\n",
       "      <th>Topic 8</th>\n",
       "      <th>Topic 9</th>\n",
       "    </tr>\n",
       "  </thead>\n",
       "  <tbody>\n",
       "    <tr>\n",
       "      <th>0</th>\n",
       "      <td>game like just really story good think games w...</td>\n",
       "      <td>like games game love souls ring elden play tha...</td>\n",
       "      <td>game ps5 years ps4 like just ve release gen ve...</td>\n",
       "      <td>just order issue sony work time got post peopl...</td>\n",
       "      <td>vr like just psvr2 better headset tv screen lo...</td>\n",
       "      <td>people just like lol don shit fuck know fuckin...</td>\n",
       "      <td>games game sony ps just price don buy like peo...</td>\n",
       "      <td>controller game fog just right left work don b...</td>\n",
       "      <td>ps5 got play disc just thank drive home use di...</td>\n",
       "      <td>play game games played time just playing man v...</td>\n",
       "    </tr>\n",
       "  </tbody>\n",
       "</table>\n",
       "</div>"
      ],
      "text/plain": [
       "                                             Topic 0  \\\n",
       "0  game like just really story good think games w...   \n",
       "\n",
       "                                             Topic 1  \\\n",
       "0  like games game love souls ring elden play tha...   \n",
       "\n",
       "                                             Topic 2  \\\n",
       "0  game ps5 years ps4 like just ve release gen ve...   \n",
       "\n",
       "                                             Topic 3  \\\n",
       "0  just order issue sony work time got post peopl...   \n",
       "\n",
       "                                             Topic 4  \\\n",
       "0  vr like just psvr2 better headset tv screen lo...   \n",
       "\n",
       "                                             Topic 5  \\\n",
       "0  people just like lol don shit fuck know fuckin...   \n",
       "\n",
       "                                             Topic 6  \\\n",
       "0  games game sony ps just price don buy like peo...   \n",
       "\n",
       "                                             Topic 7  \\\n",
       "0  controller game fog just right left work don b...   \n",
       "\n",
       "                                             Topic 8  \\\n",
       "0  ps5 got play disc just thank drive home use di...   \n",
       "\n",
       "                                             Topic 9  \n",
       "0  play game games played time just playing man v...  "
      ]
     },
     "execution_count": 29,
     "metadata": {},
     "output_type": "execute_result"
    }
   ],
   "source": [
    "topics_df = pd.DataFrame(topics, index=[0])\n",
    "\n",
    "topics_df"
   ]
  },
  {
   "cell_type": "code",
   "execution_count": 30,
   "metadata": {},
   "outputs": [
    {
     "data": {
      "text/html": [
       "<div>\n",
       "<style scoped>\n",
       "    .dataframe tbody tr th:only-of-type {\n",
       "        vertical-align: middle;\n",
       "    }\n",
       "\n",
       "    .dataframe tbody tr th {\n",
       "        vertical-align: top;\n",
       "    }\n",
       "\n",
       "    .dataframe thead th {\n",
       "        text-align: right;\n",
       "    }\n",
       "</style>\n",
       "<table border=\"1\" class=\"dataframe\">\n",
       "  <thead>\n",
       "    <tr style=\"text-align: right;\">\n",
       "      <th></th>\n",
       "      <th>Ranking</th>\n",
       "      <th>Topic</th>\n",
       "    </tr>\n",
       "  </thead>\n",
       "  <tbody>\n",
       "    <tr>\n",
       "      <th>0</th>\n",
       "      <td>Topic 1</td>\n",
       "      <td>game like just really story good think games w...</td>\n",
       "    </tr>\n",
       "    <tr>\n",
       "      <th>1</th>\n",
       "      <td>Topic 2</td>\n",
       "      <td>like games game love souls ring elden play tha...</td>\n",
       "    </tr>\n",
       "    <tr>\n",
       "      <th>2</th>\n",
       "      <td>Topic 3</td>\n",
       "      <td>game ps5 years ps4 like just ve release gen ve...</td>\n",
       "    </tr>\n",
       "    <tr>\n",
       "      <th>3</th>\n",
       "      <td>Topic 4</td>\n",
       "      <td>just order issue sony work time got post peopl...</td>\n",
       "    </tr>\n",
       "    <tr>\n",
       "      <th>4</th>\n",
       "      <td>Topic 5</td>\n",
       "      <td>vr like just psvr2 better headset tv screen lo...</td>\n",
       "    </tr>\n",
       "    <tr>\n",
       "      <th>5</th>\n",
       "      <td>Topic 6</td>\n",
       "      <td>people just like lol don shit fuck know fuckin...</td>\n",
       "    </tr>\n",
       "    <tr>\n",
       "      <th>6</th>\n",
       "      <td>Topic 7</td>\n",
       "      <td>games game sony ps just price don buy like peo...</td>\n",
       "    </tr>\n",
       "    <tr>\n",
       "      <th>7</th>\n",
       "      <td>Topic 8</td>\n",
       "      <td>controller game fog just right left work don b...</td>\n",
       "    </tr>\n",
       "    <tr>\n",
       "      <th>8</th>\n",
       "      <td>Topic 9</td>\n",
       "      <td>ps5 got play disc just thank drive home use di...</td>\n",
       "    </tr>\n",
       "    <tr>\n",
       "      <th>9</th>\n",
       "      <td>Topic 10</td>\n",
       "      <td>play game games played time just playing man v...</td>\n",
       "    </tr>\n",
       "  </tbody>\n",
       "</table>\n",
       "</div>"
      ],
      "text/plain": [
       "    Ranking                                              Topic\n",
       "0   Topic 1  game like just really story good think games w...\n",
       "1   Topic 2  like games game love souls ring elden play tha...\n",
       "2   Topic 3  game ps5 years ps4 like just ve release gen ve...\n",
       "3   Topic 4  just order issue sony work time got post peopl...\n",
       "4   Topic 5  vr like just psvr2 better headset tv screen lo...\n",
       "5   Topic 6  people just like lol don shit fuck know fuckin...\n",
       "6   Topic 7  games game sony ps just price don buy like peo...\n",
       "7   Topic 8  controller game fog just right left work don b...\n",
       "8   Topic 9  ps5 got play disc just thank drive home use di...\n",
       "9  Topic 10  play game games played time just playing man v..."
      ]
     },
     "execution_count": 30,
     "metadata": {},
     "output_type": "execute_result"
    }
   ],
   "source": [
    "topic_df_clean = {\n",
    "    \"Ranking\": [f\"Topic {i+1}\" for i in range(len(topics))],\n",
    "    \"Topic\": list(topics.values())\n",
    "}\n",
    "topic_df_clean = pd.DataFrame(topic_df_clean)\n",
    "\n",
    "topic_df_clean"
   ]
  }
 ],
 "metadata": {
  "kernelspec": {
   "display_name": "Python 3",
   "language": "python",
   "name": "python3"
  },
  "language_info": {
   "codemirror_mode": {
    "name": "ipython",
    "version": 3
   },
   "file_extension": ".py",
   "mimetype": "text/x-python",
   "name": "python",
   "nbconvert_exporter": "python",
   "pygments_lexer": "ipython3",
   "version": "3.11.3"
  },
  "orig_nbformat": 4
 },
 "nbformat": 4,
 "nbformat_minor": 2
}
