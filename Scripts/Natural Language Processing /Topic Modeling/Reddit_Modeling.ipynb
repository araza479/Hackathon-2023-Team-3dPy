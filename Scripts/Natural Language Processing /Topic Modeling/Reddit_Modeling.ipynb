{
 "cells": [
  {
   "cell_type": "code",
   "execution_count": 1,
   "metadata": {},
   "outputs": [],
   "source": [
    "import pandas as pd"
   ]
  },
  {
   "cell_type": "code",
   "execution_count": 3,
   "metadata": {},
   "outputs": [
    {
     "name": "stdout",
     "output_type": "stream",
     "text": [
      "            Author  Timestamp  \\\n",
      "0    KuntaWuKnicks  5 mo. ago   \n",
      "1  Ikewiththebeard  5 mo. ago   \n",
      "2    JamesJakes000  5 mo. ago   \n",
      "3         XscytheD  5 mo. ago   \n",
      "4             muws  5 mo. ago   \n",
      "\n",
      "                                             Comment  \\\n",
      "0  Can I make it louderOr customize the sound, no...   \n",
      "1             Customisable sound would be something!   \n",
      "2                                Metal gear alert...   \n",
      "3                                                  !   \n",
      "4                                      I heard this.   \n",
      "\n",
      "                      Title  Upvotes  \n",
      "0  No more waking the wife…    24300  \n",
      "1  No more waking the wife…    24300  \n",
      "2  No more waking the wife…    24300  \n",
      "3  No more waking the wife…    24300  \n",
      "4  No more waking the wife…    24300  \n",
      "(171358, 5)\n",
      "Index(['Author', 'Timestamp', 'Comment', 'Title', 'Upvotes'], dtype='object')\n"
     ]
    }
   ],
   "source": [
    "reddit = pd.read_csv(\"../../../Data/Final Dataset /Reddit/Reddit_Final.csv\")\n",
    "\n",
    "print(reddit.head())\n",
    "\n",
    "print(reddit.shape)\n",
    "print(reddit.columns)"
   ]
  },
  {
   "cell_type": "code",
   "execution_count": null,
   "metadata": {},
   "outputs": [],
   "source": [
    "# "
   ]
  }
 ],
 "metadata": {
  "kernelspec": {
   "display_name": "Python 3",
   "language": "python",
   "name": "python3"
  },
  "language_info": {
   "codemirror_mode": {
    "name": "ipython",
    "version": 3
   },
   "file_extension": ".py",
   "mimetype": "text/x-python",
   "name": "python",
   "nbconvert_exporter": "python",
   "pygments_lexer": "ipython3",
   "version": "3.11.3"
  },
  "orig_nbformat": 4
 },
 "nbformat": 4,
 "nbformat_minor": 2
}
